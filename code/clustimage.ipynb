{
 "cells": [
  {
   "cell_type": "code",
   "execution_count": 1,
   "id": "053ad229-ecd9-469d-a0fe-9ecb4d3c717c",
   "metadata": {},
   "outputs": [],
   "source": [
    "from clustimage import Clustimage\n",
    "import pandas as pd\n",
    "import glob"
   ]
  },
  {
   "cell_type": "raw",
   "id": "365c70ce-d5d6-4eec-9c27-d9d60a39ce6a",
   "metadata": {},
   "source": [
    "# Run clustimage for each size_class. Cluster will be added to catalog.\n",
    "# If there is only one image in the size_class, cluster analysis is skipped and the image be in cluster -1 within the size_class\n",
    "\n",
    "print('Running clustimage.ipynb.')\n",
    "pd.set_option('max_colwidth', 0)\n",
    "df = pd.read_csv(CATALOG_PATH)\n",
    "size_classes = df['size_class'].unique().tolist()\n",
    "\n",
    "for size_class in size_classes:\n",
    "    size_class = size_class.replace(' ', '-')\n",
    "    print(f'{size_class = }')\n",
    "    x = papermill.execute_notebook(\n",
    "        input_path = 'clustimage.ipynb',\n",
    "        output_path = 'temp.ipynb',\n",
    "        parameters={\n",
    "            'CATALOG_PATH': f'{DATADIR}/catalog.csv', \n",
    "            'SIZE_CLASS': size_class}    )"
   ]
  },
  {
   "cell_type": "code",
   "execution_count": 2,
   "id": "1a70ce34-b15d-4fb3-bc1c-b6396548d847",
   "metadata": {
    "tags": [
     "parameters"
    ]
   },
   "outputs": [],
   "source": [
    "# This cell is tagged as \"parameters\" to allow use by papermill\n",
    "\n",
    "# FILE_LIST_GLOB = '/home/aubrey/Desktop/libcamera/tinian_cycads_cropped/40/0*a.png'\n",
    "# FILE_LIST_GLOB = '/home/aubrey/Desktop/tinian_sticky_trap_images/*/[0-9][0-9][0-9].png'\n",
    "DATADIR = '/home/aubrey/Desktop/gpepp_nursery'\n",
    "# CATALOG_PATH = '/home/aubrey/Desktop/tinian_sticky_trap_images/catalog.csv'\n",
    "# SIZE_CLASS = '8-to-9-mm'"
   ]
  },
  {
   "cell_type": "code",
   "execution_count": 3,
   "id": "41ed5e60-179e-4dcd-aae5-ec25c158ae64",
   "metadata": {},
   "outputs": [],
   "source": [
    "catalog_path = f'{DATADIR}/catalog.csv'"
   ]
  },
  {
   "cell_type": "code",
   "execution_count": 4,
   "id": "9ca96ae4-dc6d-46a9-a4d5-6c8c6da943ec",
   "metadata": {},
   "outputs": [],
   "source": [
    "# pd.set_option('max_colwidth', 0)\n",
    "# df = pd.read_csv(CATALOG_PATH)\n",
    "# imagelist = df['path'][df['size_class']==SIZE_CLASS].tolist()\n",
    "# imagelist"
   ]
  },
  {
   "cell_type": "code",
   "execution_count": 5,
   "id": "92901911-fef6-4898-9d97-47452cefefdd",
   "metadata": {},
   "outputs": [
    {
     "name": "stderr",
     "output_type": "stream",
     "text": [
      "[clustimage] >INFO> Cleaning previous fitted model results\n",
      "[clustimage] >INFO> Reading and checking images.\n",
      "[clustimage] >INFO> Reading and checking images.\n"
     ]
    },
    {
     "name": "stdout",
     "output_type": "stream",
     "text": [
      "Running clustimage.ipynb.\n",
      "size_class = '0.1-to-0.2-mm'\n"
     ]
    },
    {
     "name": "stderr",
     "output_type": "stream",
     "text": [
      "100%|██████████| 89/89 [00:00<00:00, 11043.85it/s]\n",
      "[clustimage] >INFO> Extracting features using method: [pca]\n"
     ]
    },
    {
     "name": "stdout",
     "output_type": "stream",
     "text": [
      "[pca] >Column labels are auto-completed.\n",
      "[pca] >The PCA reduction is performed to capture [95.0%] explained variance using the [49152] columns of the input data.\n",
      "[pca] >Fitting using PCA..\n",
      "[pca] >Computing loadings and PCs..\n",
      "[pca] >Computing explained variance..\n",
      "[pca] >Number of components is [15] that covers the [95.00%] explained variance.\n",
      "[pca] >The PCA reduction is performed on the [49152] columns of the input dataframe.\n",
      "[pca] >Fitting using PCA..\n"
     ]
    },
    {
     "name": "stderr",
     "output_type": "stream",
     "text": [
      "[clustimage] >INFO> Extracted features using [pca]: samples=89, features=15\n",
      "[clustimage] >INFO> Compute embedding using [tsne]\n"
     ]
    },
    {
     "name": "stdout",
     "output_type": "stream",
     "text": [
      "[pca] >Computing loadings and PCs..\n"
     ]
    },
    {
     "name": "stderr",
     "output_type": "stream",
     "text": [
      "[clustimage] >INFO> Cluster evaluation using the [high] feature space of the [pca] features.\n"
     ]
    },
    {
     "name": "stdout",
     "output_type": "stream",
     "text": [
      "\n",
      "[clusteval] >Fit using agglomerative with metric: euclidean, and linkage: ward\n",
      "[clusteval] >Evaluate using silhouette.\n"
     ]
    },
    {
     "name": "stderr",
     "output_type": "stream",
     "text": [
      "100%|██████████| 28/28 [00:00<00:00, 442.80it/s]\n",
      "[clustimage] >INFO> Updating cluster-labels and cluster-model based on the (89, 15) feature-space.\n",
      "[clustimage] >INFO> Cleaning previous fitted model results\n",
      "[clustimage] >INFO> Reading and checking images.\n",
      "[clustimage] >INFO> Reading and checking images.\n"
     ]
    },
    {
     "name": "stdout",
     "output_type": "stream",
     "text": [
      "[clusteval] >Compute dendrogram threshold.\n",
      "[clusteval] >Optimal number clusters detected: [4].\n",
      "[clusteval] >Fin.\n",
      "/home/aubrey/Desktop/gpepp_nursery/28/28-009.png 1\n",
      "/home/aubrey/Desktop/gpepp_nursery/28/28-004.png 1\n",
      "/home/aubrey/Desktop/gpepp_nursery/28/28-006.png 3\n",
      "/home/aubrey/Desktop/gpepp_nursery/28/28-001.png 1\n",
      "/home/aubrey/Desktop/gpepp_nursery/28/28-000.png 1\n",
      "/home/aubrey/Desktop/gpepp_nursery/30/30-011.png 1\n",
      "/home/aubrey/Desktop/gpepp_nursery/30/30-015.png 1\n",
      "/home/aubrey/Desktop/gpepp_nursery/30/30-010.png 1\n",
      "/home/aubrey/Desktop/gpepp_nursery/30/30-016.png 1\n",
      "/home/aubrey/Desktop/gpepp_nursery/30/30-013.png 1\n",
      "/home/aubrey/Desktop/gpepp_nursery/29/29-005.png 1\n",
      "/home/aubrey/Desktop/gpepp_nursery/29/29-003.png 3\n",
      "/home/aubrey/Desktop/gpepp_nursery/29/29-004.png 1\n",
      "/home/aubrey/Desktop/gpepp_nursery/32/32-017.png 3\n",
      "/home/aubrey/Desktop/gpepp_nursery/32/32-042.png 1\n",
      "/home/aubrey/Desktop/gpepp_nursery/32/32-045.png 1\n",
      "/home/aubrey/Desktop/gpepp_nursery/32/32-047.png 1\n",
      "/home/aubrey/Desktop/gpepp_nursery/32/32-032.png 1\n",
      "/home/aubrey/Desktop/gpepp_nursery/32/32-033.png 1\n",
      "/home/aubrey/Desktop/gpepp_nursery/32/32-029.png 1\n",
      "/home/aubrey/Desktop/gpepp_nursery/32/32-037.png 3\n",
      "/home/aubrey/Desktop/gpepp_nursery/32/32-049.png 1\n",
      "/home/aubrey/Desktop/gpepp_nursery/32/32-043.png 1\n",
      "/home/aubrey/Desktop/gpepp_nursery/32/32-023.png 1\n",
      "/home/aubrey/Desktop/gpepp_nursery/32/32-001.png 1\n",
      "/home/aubrey/Desktop/gpepp_nursery/32/32-026.png 1\n",
      "/home/aubrey/Desktop/gpepp_nursery/32/32-028.png 1\n",
      "/home/aubrey/Desktop/gpepp_nursery/32/32-013.png 1\n",
      "/home/aubrey/Desktop/gpepp_nursery/32/32-054.png 1\n",
      "/home/aubrey/Desktop/gpepp_nursery/32/32-012.png 3\n",
      "/home/aubrey/Desktop/gpepp_nursery/32/32-046.png 3\n",
      "/home/aubrey/Desktop/gpepp_nursery/32/32-041.png 3\n",
      "/home/aubrey/Desktop/gpepp_nursery/32/32-022.png 1\n",
      "/home/aubrey/Desktop/gpepp_nursery/38/38-019.png 1\n",
      "/home/aubrey/Desktop/gpepp_nursery/38/38-001.png 1\n",
      "/home/aubrey/Desktop/gpepp_nursery/38/38-011.png 3\n",
      "/home/aubrey/Desktop/gpepp_nursery/38/38-012.png 1\n",
      "/home/aubrey/Desktop/gpepp_nursery/38/38-003.png 1\n",
      "/home/aubrey/Desktop/gpepp_nursery/38/38-010.png 1\n",
      "/home/aubrey/Desktop/gpepp_nursery/38/38-007.png 1\n",
      "/home/aubrey/Desktop/gpepp_nursery/38/38-014.png 1\n",
      "/home/aubrey/Desktop/gpepp_nursery/38/38-009.png 3\n",
      "/home/aubrey/Desktop/gpepp_nursery/38/38-016.png 3\n",
      "/home/aubrey/Desktop/gpepp_nursery/35/35-037.png 1\n",
      "/home/aubrey/Desktop/gpepp_nursery/35/35-047.png 1\n",
      "/home/aubrey/Desktop/gpepp_nursery/35/35-011.png 1\n",
      "/home/aubrey/Desktop/gpepp_nursery/35/35-046.png 1\n",
      "/home/aubrey/Desktop/gpepp_nursery/35/35-006.png 1\n",
      "/home/aubrey/Desktop/gpepp_nursery/35/35-052.png 1\n",
      "/home/aubrey/Desktop/gpepp_nursery/35/35-019.png 1\n",
      "/home/aubrey/Desktop/gpepp_nursery/35/35-002.png 1\n",
      "/home/aubrey/Desktop/gpepp_nursery/35/35-036.png 1\n",
      "/home/aubrey/Desktop/gpepp_nursery/35/35-031.png 1\n",
      "/home/aubrey/Desktop/gpepp_nursery/35/35-025.png 1\n",
      "/home/aubrey/Desktop/gpepp_nursery/33/33-081.png 0\n",
      "/home/aubrey/Desktop/gpepp_nursery/33/33-011.png 0\n",
      "/home/aubrey/Desktop/gpepp_nursery/33/33-083.png 0\n",
      "/home/aubrey/Desktop/gpepp_nursery/33/33-133.png 1\n",
      "/home/aubrey/Desktop/gpepp_nursery/33/33-123.png 3\n",
      "/home/aubrey/Desktop/gpepp_nursery/33/33-105.png 1\n",
      "/home/aubrey/Desktop/gpepp_nursery/33/33-107.png 1\n",
      "/home/aubrey/Desktop/gpepp_nursery/33/33-006.png 1\n",
      "/home/aubrey/Desktop/gpepp_nursery/33/33-095.png 0\n",
      "/home/aubrey/Desktop/gpepp_nursery/33/33-071.png 1\n",
      "/home/aubrey/Desktop/gpepp_nursery/33/33-066.png 1\n",
      "/home/aubrey/Desktop/gpepp_nursery/33/33-116.png 1\n",
      "/home/aubrey/Desktop/gpepp_nursery/33/33-044.png 1\n",
      "/home/aubrey/Desktop/gpepp_nursery/33/33-136.png 2\n",
      "/home/aubrey/Desktop/gpepp_nursery/33/33-064.png 1\n",
      "/home/aubrey/Desktop/gpepp_nursery/33/33-109.png 1\n",
      "/home/aubrey/Desktop/gpepp_nursery/33/33-055.png 1\n",
      "/home/aubrey/Desktop/gpepp_nursery/33/33-054.png 1\n",
      "/home/aubrey/Desktop/gpepp_nursery/33/33-117.png 1\n",
      "/home/aubrey/Desktop/gpepp_nursery/33/33-111.png 3\n",
      "/home/aubrey/Desktop/gpepp_nursery/33/33-096.png 1\n",
      "/home/aubrey/Desktop/gpepp_nursery/33/33-138.png 2\n",
      "/home/aubrey/Desktop/gpepp_nursery/33/33-040.png 1\n",
      "/home/aubrey/Desktop/gpepp_nursery/33/33-090.png 3\n",
      "/home/aubrey/Desktop/gpepp_nursery/33/33-112.png 3\n",
      "/home/aubrey/Desktop/gpepp_nursery/33/33-003.png 1\n",
      "/home/aubrey/Desktop/gpepp_nursery/33/33-043.png 1\n",
      "/home/aubrey/Desktop/gpepp_nursery/33/33-013.png 3\n",
      "/home/aubrey/Desktop/gpepp_nursery/33/33-063.png 3\n",
      "/home/aubrey/Desktop/gpepp_nursery/33/33-091.png 1\n",
      "/home/aubrey/Desktop/gpepp_nursery/27/27-024.png 1\n",
      "/home/aubrey/Desktop/gpepp_nursery/27/27-002.png 1\n",
      "/home/aubrey/Desktop/gpepp_nursery/27/27-000.png 1\n",
      "/home/aubrey/Desktop/gpepp_nursery/27/27-011.png 1\n",
      "/home/aubrey/Desktop/gpepp_nursery/27/27-060.png 1\n",
      "size_class = '0.3-to-0.4-mm'\n"
     ]
    },
    {
     "name": "stderr",
     "output_type": "stream",
     "text": [
      "100%|██████████| 58/58 [00:00<00:00, 13163.94it/s]\n",
      "[clustimage] >INFO> Extracting features using method: [pca]\n"
     ]
    },
    {
     "name": "stdout",
     "output_type": "stream",
     "text": [
      "[pca] >Column labels are auto-completed.\n",
      "[pca] >The PCA reduction is performed to capture [95.0%] explained variance using the [49152] columns of the input data.\n",
      "[pca] >Fitting using PCA..\n",
      "[pca] >Computing loadings and PCs..\n",
      "[pca] >Computing explained variance..\n",
      "[pca] >Number of components is [16] that covers the [95.00%] explained variance.\n",
      "[pca] >The PCA reduction is performed on the [49152] columns of the input dataframe.\n",
      "[pca] >Fitting using PCA..\n"
     ]
    },
    {
     "name": "stderr",
     "output_type": "stream",
     "text": [
      "[clustimage] >INFO> Extracted features using [pca]: samples=58, features=16\n",
      "[clustimage] >INFO> Compute embedding using [tsne]\n"
     ]
    },
    {
     "name": "stdout",
     "output_type": "stream",
     "text": [
      "[pca] >Computing loadings and PCs..\n"
     ]
    },
    {
     "name": "stderr",
     "output_type": "stream",
     "text": [
      "[clustimage] >INFO> Cluster evaluation using the [high] feature space of the [pca] features.\n"
     ]
    },
    {
     "name": "stdout",
     "output_type": "stream",
     "text": [
      "\n",
      "[clusteval] >Fit using agglomerative with metric: euclidean, and linkage: ward\n",
      "[clusteval] >Evaluate using silhouette.\n"
     ]
    },
    {
     "name": "stderr",
     "output_type": "stream",
     "text": [
      "100%|██████████| 28/28 [00:00<00:00, 509.36it/s]\n",
      "[clustimage] >INFO> Updating cluster-labels and cluster-model based on the (58, 16) feature-space.\n",
      "[clustimage] >INFO> Cleaning previous fitted model results\n",
      "[clustimage] >INFO> Reading and checking images.\n",
      "[clustimage] >INFO> Reading and checking images.\n"
     ]
    },
    {
     "name": "stdout",
     "output_type": "stream",
     "text": [
      "[clusteval] >Compute dendrogram threshold.\n",
      "[clusteval] >Optimal number clusters detected: [2].\n",
      "[clusteval] >Fin.\n",
      "/home/aubrey/Desktop/gpepp_nursery/28/28-008.png 1\n",
      "/home/aubrey/Desktop/gpepp_nursery/30/30-014.png 1\n",
      "/home/aubrey/Desktop/gpepp_nursery/30/30-007.png 0\n",
      "/home/aubrey/Desktop/gpepp_nursery/32/32-044.png 0\n",
      "/home/aubrey/Desktop/gpepp_nursery/32/32-057.png 0\n",
      "/home/aubrey/Desktop/gpepp_nursery/32/32-007.png 1\n",
      "/home/aubrey/Desktop/gpepp_nursery/32/32-008.png 1\n",
      "/home/aubrey/Desktop/gpepp_nursery/32/32-048.png 1\n",
      "/home/aubrey/Desktop/gpepp_nursery/32/32-052.png 1\n",
      "/home/aubrey/Desktop/gpepp_nursery/32/32-055.png 0\n",
      "/home/aubrey/Desktop/gpepp_nursery/32/32-038.png 0\n",
      "/home/aubrey/Desktop/gpepp_nursery/32/32-018.png 1\n",
      "/home/aubrey/Desktop/gpepp_nursery/32/32-000.png 0\n",
      "/home/aubrey/Desktop/gpepp_nursery/38/38-022.png 1\n",
      "/home/aubrey/Desktop/gpepp_nursery/35/35-042.png 1\n",
      "/home/aubrey/Desktop/gpepp_nursery/35/35-050.png 1\n",
      "/home/aubrey/Desktop/gpepp_nursery/35/35-028.png 0\n",
      "/home/aubrey/Desktop/gpepp_nursery/35/35-005.png 1\n",
      "/home/aubrey/Desktop/gpepp_nursery/35/35-039.png 0\n",
      "/home/aubrey/Desktop/gpepp_nursery/35/35-049.png 0\n",
      "/home/aubrey/Desktop/gpepp_nursery/33/33-038.png 1\n",
      "/home/aubrey/Desktop/gpepp_nursery/33/33-080.png 1\n",
      "/home/aubrey/Desktop/gpepp_nursery/33/33-086.png 0\n",
      "/home/aubrey/Desktop/gpepp_nursery/33/33-052.png 1\n",
      "/home/aubrey/Desktop/gpepp_nursery/33/33-070.png 0\n",
      "/home/aubrey/Desktop/gpepp_nursery/33/33-093.png 0\n",
      "/home/aubrey/Desktop/gpepp_nursery/33/33-115.png 0\n",
      "/home/aubrey/Desktop/gpepp_nursery/33/33-001.png 0\n",
      "/home/aubrey/Desktop/gpepp_nursery/33/33-029.png 1\n",
      "/home/aubrey/Desktop/gpepp_nursery/33/33-067.png 0\n",
      "/home/aubrey/Desktop/gpepp_nursery/33/33-014.png 1\n",
      "/home/aubrey/Desktop/gpepp_nursery/33/33-127.png 1\n",
      "/home/aubrey/Desktop/gpepp_nursery/33/33-056.png 1\n",
      "/home/aubrey/Desktop/gpepp_nursery/33/33-053.png 1\n",
      "/home/aubrey/Desktop/gpepp_nursery/31/31-002.png 1\n",
      "/home/aubrey/Desktop/gpepp_nursery/31/31-004.png 1\n",
      "/home/aubrey/Desktop/gpepp_nursery/31/31-008.png 1\n",
      "/home/aubrey/Desktop/gpepp_nursery/31/31-013.png 1\n",
      "/home/aubrey/Desktop/gpepp_nursery/25/25-003.png 0\n",
      "/home/aubrey/Desktop/gpepp_nursery/27/27-038.png 0\n",
      "/home/aubrey/Desktop/gpepp_nursery/27/27-047.png 0\n",
      "/home/aubrey/Desktop/gpepp_nursery/27/27-034.png 0\n",
      "/home/aubrey/Desktop/gpepp_nursery/27/27-059.png 0\n",
      "/home/aubrey/Desktop/gpepp_nursery/27/27-023.png 0\n",
      "/home/aubrey/Desktop/gpepp_nursery/27/27-075.png 0\n",
      "/home/aubrey/Desktop/gpepp_nursery/27/27-045.png 0\n",
      "/home/aubrey/Desktop/gpepp_nursery/27/27-037.png 0\n",
      "/home/aubrey/Desktop/gpepp_nursery/27/27-053.png 0\n",
      "/home/aubrey/Desktop/gpepp_nursery/27/27-010.png 0\n",
      "/home/aubrey/Desktop/gpepp_nursery/27/27-049.png 1\n",
      "/home/aubrey/Desktop/gpepp_nursery/27/27-056.png 0\n",
      "/home/aubrey/Desktop/gpepp_nursery/27/27-009.png 0\n",
      "/home/aubrey/Desktop/gpepp_nursery/27/27-022.png 0\n",
      "/home/aubrey/Desktop/gpepp_nursery/27/27-071.png 0\n",
      "/home/aubrey/Desktop/gpepp_nursery/27/27-039.png 1\n",
      "/home/aubrey/Desktop/gpepp_nursery/27/27-005.png 0\n",
      "/home/aubrey/Desktop/gpepp_nursery/27/27-032.png 0\n",
      "/home/aubrey/Desktop/gpepp_nursery/27/27-033.png 1\n",
      "size_class = '0.2-to-0.3-mm'\n"
     ]
    },
    {
     "name": "stderr",
     "output_type": "stream",
     "text": [
      "100%|██████████| 137/137 [00:00<00:00, 6648.84it/s]\n",
      "[clustimage] >INFO> Extracting features using method: [pca]\n"
     ]
    },
    {
     "name": "stdout",
     "output_type": "stream",
     "text": [
      "[pca] >Column labels are auto-completed.\n",
      "[pca] >The PCA reduction is performed to capture [95.0%] explained variance using the [49152] columns of the input data.\n",
      "[pca] >Fitting using PCA..\n",
      "[pca] >Computing loadings and PCs..\n",
      "[pca] >Computing explained variance..\n",
      "[pca] >Number of components is [22] that covers the [95.00%] explained variance.\n",
      "[pca] >The PCA reduction is performed on the [49152] columns of the input dataframe.\n",
      "[pca] >Fitting using PCA..\n",
      "[pca] >Computing loadings and PCs..\n"
     ]
    },
    {
     "name": "stderr",
     "output_type": "stream",
     "text": [
      "[clustimage] >INFO> Extracted features using [pca]: samples=137, features=22\n",
      "[clustimage] >INFO> Compute embedding using [tsne]\n",
      "[clustimage] >INFO> Cluster evaluation using the [high] feature space of the [pca] features.\n"
     ]
    },
    {
     "name": "stdout",
     "output_type": "stream",
     "text": [
      "\n",
      "[clusteval] >Fit using agglomerative with metric: euclidean, and linkage: ward\n",
      "[clusteval] >Evaluate using silhouette.\n"
     ]
    },
    {
     "name": "stderr",
     "output_type": "stream",
     "text": [
      "100%|██████████| 28/28 [00:00<00:00, 288.65it/s]\n",
      "[clustimage] >INFO> Updating cluster-labels and cluster-model based on the (137, 22) feature-space.\n"
     ]
    },
    {
     "name": "stdout",
     "output_type": "stream",
     "text": [
      "[clusteval] >Compute dendrogram threshold.\n",
      "[clusteval] >Optimal number clusters detected: [2].\n",
      "[clusteval] >Fin.\n",
      "/home/aubrey/Desktop/gpepp_nursery/28/28-003.png 0\n",
      "/home/aubrey/Desktop/gpepp_nursery/28/28-002.png 0\n",
      "/home/aubrey/Desktop/gpepp_nursery/30/30-001.png 0\n",
      "/home/aubrey/Desktop/gpepp_nursery/30/30-017.png 1\n",
      "/home/aubrey/Desktop/gpepp_nursery/30/30-005.png 0\n",
      "/home/aubrey/Desktop/gpepp_nursery/30/30-000.png 0\n",
      "/home/aubrey/Desktop/gpepp_nursery/30/30-006.png 0\n",
      "/home/aubrey/Desktop/gpepp_nursery/30/30-012.png 0\n",
      "/home/aubrey/Desktop/gpepp_nursery/29/29-002.png 0\n",
      "/home/aubrey/Desktop/gpepp_nursery/29/29-007.png 0\n",
      "/home/aubrey/Desktop/gpepp_nursery/29/29-001.png 0\n",
      "/home/aubrey/Desktop/gpepp_nursery/32/32-011.png 0\n",
      "/home/aubrey/Desktop/gpepp_nursery/32/32-040.png 1\n",
      "/home/aubrey/Desktop/gpepp_nursery/32/32-027.png 1\n",
      "/home/aubrey/Desktop/gpepp_nursery/32/32-015.png 0\n",
      "/home/aubrey/Desktop/gpepp_nursery/32/32-016.png 1\n",
      "/home/aubrey/Desktop/gpepp_nursery/32/32-010.png 1\n",
      "/home/aubrey/Desktop/gpepp_nursery/32/32-035.png 1\n",
      "/home/aubrey/Desktop/gpepp_nursery/32/32-025.png 1\n",
      "/home/aubrey/Desktop/gpepp_nursery/32/32-039.png 0\n",
      "/home/aubrey/Desktop/gpepp_nursery/32/32-002.png 0\n",
      "/home/aubrey/Desktop/gpepp_nursery/32/32-003.png 1\n",
      "/home/aubrey/Desktop/gpepp_nursery/32/32-036.png 0\n",
      "/home/aubrey/Desktop/gpepp_nursery/32/32-004.png 1\n",
      "/home/aubrey/Desktop/gpepp_nursery/32/32-006.png 0\n",
      "/home/aubrey/Desktop/gpepp_nursery/32/32-030.png 0\n",
      "/home/aubrey/Desktop/gpepp_nursery/32/32-005.png 0\n",
      "/home/aubrey/Desktop/gpepp_nursery/32/32-034.png 0\n",
      "/home/aubrey/Desktop/gpepp_nursery/32/32-021.png 1\n",
      "/home/aubrey/Desktop/gpepp_nursery/32/32-014.png 0\n",
      "/home/aubrey/Desktop/gpepp_nursery/38/38-008.png 0\n",
      "/home/aubrey/Desktop/gpepp_nursery/38/38-013.png 1\n",
      "/home/aubrey/Desktop/gpepp_nursery/38/38-000.png 1\n",
      "/home/aubrey/Desktop/gpepp_nursery/38/38-018.png 0\n",
      "/home/aubrey/Desktop/gpepp_nursery/38/38-020.png 0\n",
      "/home/aubrey/Desktop/gpepp_nursery/38/38-015.png 0\n",
      "/home/aubrey/Desktop/gpepp_nursery/38/38-021.png 0\n",
      "/home/aubrey/Desktop/gpepp_nursery/38/38-005.png 0\n",
      "/home/aubrey/Desktop/gpepp_nursery/38/38-002.png 0\n",
      "/home/aubrey/Desktop/gpepp_nursery/38/38-023.png 1\n",
      "/home/aubrey/Desktop/gpepp_nursery/38/38-024.png 0\n",
      "/home/aubrey/Desktop/gpepp_nursery/38/38-017.png 0\n",
      "/home/aubrey/Desktop/gpepp_nursery/35/35-038.png 0\n",
      "/home/aubrey/Desktop/gpepp_nursery/35/35-013.png 0\n",
      "/home/aubrey/Desktop/gpepp_nursery/35/35-020.png 0\n",
      "/home/aubrey/Desktop/gpepp_nursery/35/35-044.png 0\n",
      "/home/aubrey/Desktop/gpepp_nursery/35/35-010.png 1\n",
      "/home/aubrey/Desktop/gpepp_nursery/35/35-030.png 1\n",
      "/home/aubrey/Desktop/gpepp_nursery/35/35-009.png 1\n",
      "/home/aubrey/Desktop/gpepp_nursery/35/35-029.png 1\n",
      "/home/aubrey/Desktop/gpepp_nursery/35/35-017.png 0\n",
      "/home/aubrey/Desktop/gpepp_nursery/35/35-014.png 0\n",
      "/home/aubrey/Desktop/gpepp_nursery/35/35-034.png 0\n",
      "/home/aubrey/Desktop/gpepp_nursery/35/35-048.png 1\n",
      "/home/aubrey/Desktop/gpepp_nursery/35/35-051.png 1\n",
      "/home/aubrey/Desktop/gpepp_nursery/35/35-007.png 1\n",
      "/home/aubrey/Desktop/gpepp_nursery/35/35-004.png 1\n",
      "/home/aubrey/Desktop/gpepp_nursery/33/33-065.png 0\n",
      "/home/aubrey/Desktop/gpepp_nursery/33/33-134.png 0\n",
      "/home/aubrey/Desktop/gpepp_nursery/33/33-126.png 0\n",
      "/home/aubrey/Desktop/gpepp_nursery/33/33-047.png 0\n",
      "/home/aubrey/Desktop/gpepp_nursery/33/33-099.png 1\n",
      "/home/aubrey/Desktop/gpepp_nursery/33/33-104.png 1\n",
      "/home/aubrey/Desktop/gpepp_nursery/33/33-118.png 0\n",
      "/home/aubrey/Desktop/gpepp_nursery/33/33-074.png 1\n",
      "/home/aubrey/Desktop/gpepp_nursery/33/33-018.png 0\n",
      "/home/aubrey/Desktop/gpepp_nursery/33/33-010.png 1\n",
      "/home/aubrey/Desktop/gpepp_nursery/33/33-031.png 0\n",
      "/home/aubrey/Desktop/gpepp_nursery/33/33-085.png 0\n",
      "/home/aubrey/Desktop/gpepp_nursery/33/33-026.png 0\n",
      "/home/aubrey/Desktop/gpepp_nursery/33/33-049.png 0\n",
      "/home/aubrey/Desktop/gpepp_nursery/33/33-130.png 1\n",
      "/home/aubrey/Desktop/gpepp_nursery/33/33-046.png"
     ]
    },
    {
     "name": "stderr",
     "output_type": "stream",
     "text": [
      "[clustimage] >INFO> Cleaning previous fitted model results\n",
      "[clustimage] >INFO> Reading and checking images.\n",
      "[clustimage] >INFO> Reading and checking images.\n"
     ]
    },
    {
     "name": "stdout",
     "output_type": "stream",
     "text": [
      " 0\n",
      "/home/aubrey/Desktop/gpepp_nursery/33/33-092.png 0\n",
      "/home/aubrey/Desktop/gpepp_nursery/33/33-036.png 0\n",
      "/home/aubrey/Desktop/gpepp_nursery/33/33-084.png 0\n",
      "/home/aubrey/Desktop/gpepp_nursery/33/33-037.png 0\n",
      "/home/aubrey/Desktop/gpepp_nursery/33/33-062.png 1\n",
      "/home/aubrey/Desktop/gpepp_nursery/33/33-068.png 1\n",
      "/home/aubrey/Desktop/gpepp_nursery/33/33-069.png 1\n",
      "/home/aubrey/Desktop/gpepp_nursery/33/33-128.png 1\n",
      "/home/aubrey/Desktop/gpepp_nursery/33/33-101.png 0\n",
      "/home/aubrey/Desktop/gpepp_nursery/33/33-039.png 0\n",
      "/home/aubrey/Desktop/gpepp_nursery/33/33-004.png 0\n",
      "/home/aubrey/Desktop/gpepp_nursery/33/33-009.png 0\n",
      "/home/aubrey/Desktop/gpepp_nursery/33/33-051.png 1\n",
      "/home/aubrey/Desktop/gpepp_nursery/33/33-082.png 1\n",
      "/home/aubrey/Desktop/gpepp_nursery/33/33-035.png 0\n",
      "/home/aubrey/Desktop/gpepp_nursery/33/33-098.png 1\n",
      "/home/aubrey/Desktop/gpepp_nursery/33/33-087.png 0\n",
      "/home/aubrey/Desktop/gpepp_nursery/33/33-048.png 0\n",
      "/home/aubrey/Desktop/gpepp_nursery/33/33-030.png 0\n",
      "/home/aubrey/Desktop/gpepp_nursery/33/33-015.png 1\n",
      "/home/aubrey/Desktop/gpepp_nursery/33/33-131.png 0\n",
      "/home/aubrey/Desktop/gpepp_nursery/33/33-005.png 1\n",
      "/home/aubrey/Desktop/gpepp_nursery/33/33-045.png 0\n",
      "/home/aubrey/Desktop/gpepp_nursery/33/33-114.png 0\n",
      "/home/aubrey/Desktop/gpepp_nursery/33/33-102.png 0\n",
      "/home/aubrey/Desktop/gpepp_nursery/33/33-020.png 0\n",
      "/home/aubrey/Desktop/gpepp_nursery/33/33-094.png 0\n",
      "/home/aubrey/Desktop/gpepp_nursery/33/33-023.png 0\n",
      "/home/aubrey/Desktop/gpepp_nursery/33/33-058.png 1\n",
      "/home/aubrey/Desktop/gpepp_nursery/33/33-120.png 1\n",
      "/home/aubrey/Desktop/gpepp_nursery/33/33-113.png 0\n",
      "/home/aubrey/Desktop/gpepp_nursery/33/33-002.png 0\n",
      "/home/aubrey/Desktop/gpepp_nursery/33/33-076.png 1\n",
      "/home/aubrey/Desktop/gpepp_nursery/33/33-057.png 1\n",
      "/home/aubrey/Desktop/gpepp_nursery/33/33-061.png 0\n",
      "/home/aubrey/Desktop/gpepp_nursery/33/33-060.png 1\n",
      "/home/aubrey/Desktop/gpepp_nursery/33/33-077.png 1\n",
      "/home/aubrey/Desktop/gpepp_nursery/33/33-000.png 1\n",
      "/home/aubrey/Desktop/gpepp_nursery/33/33-075.png 0\n",
      "/home/aubrey/Desktop/gpepp_nursery/33/33-108.png 0\n",
      "/home/aubrey/Desktop/gpepp_nursery/33/33-100.png 1\n",
      "/home/aubrey/Desktop/gpepp_nursery/33/33-016.png 1\n",
      "/home/aubrey/Desktop/gpepp_nursery/33/33-041.png 0\n",
      "/home/aubrey/Desktop/gpepp_nursery/33/33-106.png 1\n",
      "/home/aubrey/Desktop/gpepp_nursery/33/33-135.png 1\n",
      "/home/aubrey/Desktop/gpepp_nursery/26/26-013.png 1\n",
      "/home/aubrey/Desktop/gpepp_nursery/25/25-007.png 0\n",
      "/home/aubrey/Desktop/gpepp_nursery/27/27-044.png 1\n",
      "/home/aubrey/Desktop/gpepp_nursery/27/27-057.png 1\n",
      "/home/aubrey/Desktop/gpepp_nursery/27/27-042.png 0\n",
      "/home/aubrey/Desktop/gpepp_nursery/27/27-065.png 0\n",
      "/home/aubrey/Desktop/gpepp_nursery/27/27-016.png 0\n",
      "/home/aubrey/Desktop/gpepp_nursery/27/27-080.png 0\n",
      "/home/aubrey/Desktop/gpepp_nursery/27/27-074.png 0\n",
      "/home/aubrey/Desktop/gpepp_nursery/27/27-051.png 0\n",
      "/home/aubrey/Desktop/gpepp_nursery/27/27-076.png 1\n",
      "/home/aubrey/Desktop/gpepp_nursery/27/27-073.png 0\n",
      "/home/aubrey/Desktop/gpepp_nursery/27/27-029.png 0\n",
      "/home/aubrey/Desktop/gpepp_nursery/27/27-017.png 1\n",
      "/home/aubrey/Desktop/gpepp_nursery/27/27-001.png 0\n",
      "/home/aubrey/Desktop/gpepp_nursery/27/27-030.png 0\n",
      "/home/aubrey/Desktop/gpepp_nursery/27/27-041.png 0\n",
      "/home/aubrey/Desktop/gpepp_nursery/27/27-014.png 0\n",
      "/home/aubrey/Desktop/gpepp_nursery/27/27-054.png 0\n",
      "size_class = '0.7-to-0.8-mm'\n"
     ]
    },
    {
     "name": "stderr",
     "output_type": "stream",
     "text": [
      "100%|██████████| 12/12 [00:00<00:00, 9801.68it/s]\n",
      "[clustimage] >INFO> Extracting features using method: [pca]\n"
     ]
    },
    {
     "name": "stdout",
     "output_type": "stream",
     "text": [
      "[pca] >Column labels are auto-completed.\n",
      "[pca] >The PCA reduction is performed to capture [95.0%] explained variance using the [49152] columns of the input data.\n",
      "[pca] >Fitting using PCA..\n",
      "[pca] >Computing loadings and PCs..\n",
      "[pca] >Computing explained variance..\n",
      "[pca] >Number of components is [7] that covers the [95.00%] explained variance.\n",
      "[pca] >The PCA reduction is performed on the [49152] columns of the input dataframe.\n",
      "[pca] >Fitting using PCA..\n"
     ]
    },
    {
     "name": "stderr",
     "output_type": "stream",
     "text": [
      "[clustimage] >INFO> Extracted features using [pca]: samples=12, features=7\n",
      "[clustimage] >INFO> Compute embedding using [tsne]\n"
     ]
    },
    {
     "name": "stdout",
     "output_type": "stream",
     "text": [
      "[pca] >Computing loadings and PCs..\n"
     ]
    },
    {
     "name": "stderr",
     "output_type": "stream",
     "text": [
      "[clustimage] >INFO> Cluster evaluation using the [high] feature space of the [pca] features.\n"
     ]
    },
    {
     "name": "stdout",
     "output_type": "stream",
     "text": [
      "\n",
      "[clusteval] >Fit using agglomerative with metric: euclidean, and linkage: ward\n",
      "[clusteval] >Evaluate using silhouette.\n"
     ]
    },
    {
     "name": "stderr",
     "output_type": "stream",
     "text": [
      "100%|██████████| 28/28 [00:00<00:00, 1887.02it/s]\n",
      "[clustimage] >INFO> Updating cluster-labels and cluster-model based on the (12, 7) feature-space.\n",
      "[clustimage] >INFO> Cleaning previous fitted model results\n",
      "[clustimage] >INFO> Reading and checking images.\n",
      "[clustimage] >INFO> Reading and checking images.\n"
     ]
    },
    {
     "name": "stdout",
     "output_type": "stream",
     "text": [
      "[clusteval] >Compute dendrogram threshold.\n",
      "[clusteval] >Optimal number clusters detected: [2].\n",
      "[clusteval] >Fin.\n",
      "/home/aubrey/Desktop/gpepp_nursery/28/28-005.png 0\n",
      "/home/aubrey/Desktop/gpepp_nursery/30/30-018.png 1\n",
      "/home/aubrey/Desktop/gpepp_nursery/30/30-009.png 0\n",
      "/home/aubrey/Desktop/gpepp_nursery/35/35-012.png 0\n",
      "/home/aubrey/Desktop/gpepp_nursery/35/35-016.png 0\n",
      "/home/aubrey/Desktop/gpepp_nursery/33/33-028.png 0\n",
      "/home/aubrey/Desktop/gpepp_nursery/33/33-017.png 0\n",
      "/home/aubrey/Desktop/gpepp_nursery/33/33-129.png 0\n",
      "/home/aubrey/Desktop/gpepp_nursery/31/31-006.png 0\n",
      "/home/aubrey/Desktop/gpepp_nursery/27/27-050.png 0\n",
      "/home/aubrey/Desktop/gpepp_nursery/27/27-061.png 0\n",
      "/home/aubrey/Desktop/gpepp_nursery/27/27-012.png 1\n",
      "size_class = '0.4-to-0.5-mm'\n"
     ]
    },
    {
     "name": "stderr",
     "output_type": "stream",
     "text": [
      "100%|██████████| 35/35 [00:00<00:00, 10759.36it/s]\n",
      "[clustimage] >INFO> Extracting features using method: [pca]\n"
     ]
    },
    {
     "name": "stdout",
     "output_type": "stream",
     "text": [
      "[pca] >Column labels are auto-completed.\n",
      "[pca] >The PCA reduction is performed to capture [95.0%] explained variance using the [49152] columns of the input data.\n",
      "[pca] >Fitting using PCA..\n",
      "[pca] >Computing loadings and PCs..\n",
      "[pca] >Computing explained variance..\n",
      "[pca] >Number of components is [13] that covers the [95.00%] explained variance.\n",
      "[pca] >The PCA reduction is performed on the [49152] columns of the input dataframe.\n",
      "[pca] >Fitting using PCA..\n",
      "[pca] >Computing loadings and PCs..\n"
     ]
    },
    {
     "name": "stderr",
     "output_type": "stream",
     "text": [
      "[clustimage] >INFO> Extracted features using [pca]: samples=35, features=13\n",
      "[clustimage] >INFO> Compute embedding using [tsne]\n",
      "[clustimage] >INFO> Cluster evaluation using the [high] feature space of the [pca] features.\n"
     ]
    },
    {
     "name": "stdout",
     "output_type": "stream",
     "text": [
      "\n",
      "[clusteval] >Fit using agglomerative with metric: euclidean, and linkage: ward\n",
      "[clusteval] >Evaluate using silhouette.\n"
     ]
    },
    {
     "name": "stderr",
     "output_type": "stream",
     "text": [
      "100%|██████████| 28/28 [00:00<00:00, 945.87it/s]\n",
      "[clustimage] >INFO> Updating cluster-labels and cluster-model based on the (35, 13) feature-space.\n",
      "[clustimage] >INFO> Cleaning previous fitted model results\n",
      "[clustimage] >INFO> Reading and checking images.\n",
      "[clustimage] >INFO> Reading and checking images.\n"
     ]
    },
    {
     "name": "stdout",
     "output_type": "stream",
     "text": [
      "[clusteval] >Compute dendrogram threshold.\n",
      "[clusteval] >Optimal number clusters detected: [3].\n",
      "[clusteval] >Fin.\n",
      "/home/aubrey/Desktop/gpepp_nursery/28/28-007.png 1\n",
      "/home/aubrey/Desktop/gpepp_nursery/30/30-019.png 1\n",
      "/home/aubrey/Desktop/gpepp_nursery/30/30-021.png 1\n",
      "/home/aubrey/Desktop/gpepp_nursery/32/32-053.png 1\n",
      "/home/aubrey/Desktop/gpepp_nursery/32/32-051.png 2\n",
      "/home/aubrey/Desktop/gpepp_nursery/38/38-004.png 0\n",
      "/home/aubrey/Desktop/gpepp_nursery/35/35-000.png 1\n",
      "/home/aubrey/Desktop/gpepp_nursery/35/35-043.png 0\n",
      "/home/aubrey/Desktop/gpepp_nursery/35/35-041.png 1\n",
      "/home/aubrey/Desktop/gpepp_nursery/35/35-033.png 1\n",
      "/home/aubrey/Desktop/gpepp_nursery/35/35-035.png 0\n",
      "/home/aubrey/Desktop/gpepp_nursery/35/35-001.png 1\n",
      "/home/aubrey/Desktop/gpepp_nursery/33/33-078.png 1\n",
      "/home/aubrey/Desktop/gpepp_nursery/33/33-072.png 1\n",
      "/home/aubrey/Desktop/gpepp_nursery/33/33-021.png 1\n",
      "/home/aubrey/Desktop/gpepp_nursery/33/33-007.png 1\n",
      "/home/aubrey/Desktop/gpepp_nursery/33/33-073.png 0\n",
      "/home/aubrey/Desktop/gpepp_nursery/33/33-125.png 0\n",
      "/home/aubrey/Desktop/gpepp_nursery/33/33-103.png 0\n",
      "/home/aubrey/Desktop/gpepp_nursery/33/33-141.png 1\n",
      "/home/aubrey/Desktop/gpepp_nursery/33/33-122.png 0\n",
      "/home/aubrey/Desktop/gpepp_nursery/33/33-132.png 1\n",
      "/home/aubrey/Desktop/gpepp_nursery/33/33-079.png 0\n",
      "/home/aubrey/Desktop/gpepp_nursery/27/27-025.png 1\n",
      "/home/aubrey/Desktop/gpepp_nursery/27/27-028.png 1\n",
      "/home/aubrey/Desktop/gpepp_nursery/27/27-048.png 1\n",
      "/home/aubrey/Desktop/gpepp_nursery/27/27-019.png 1\n",
      "/home/aubrey/Desktop/gpepp_nursery/27/27-069.png 1\n",
      "/home/aubrey/Desktop/gpepp_nursery/27/27-027.png 1\n",
      "/home/aubrey/Desktop/gpepp_nursery/27/27-043.png 1\n",
      "/home/aubrey/Desktop/gpepp_nursery/27/27-021.png 1\n",
      "/home/aubrey/Desktop/gpepp_nursery/27/27-031.png 1\n",
      "/home/aubrey/Desktop/gpepp_nursery/27/27-013.png 1\n",
      "/home/aubrey/Desktop/gpepp_nursery/27/27-036.png 1\n",
      "/home/aubrey/Desktop/gpepp_nursery/27/27-015.png 1\n",
      "size_class = '0.6-to-0.7-mm'\n"
     ]
    },
    {
     "name": "stderr",
     "output_type": "stream",
     "text": [
      "100%|██████████| 21/21 [00:00<00:00, 8889.82it/s]\n",
      "[clustimage] >INFO> Extracting features using method: [pca]\n"
     ]
    },
    {
     "name": "stdout",
     "output_type": "stream",
     "text": [
      "[pca] >Column labels are auto-completed.\n",
      "[pca] >The PCA reduction is performed to capture [95.0%] explained variance using the [49152] columns of the input data.\n",
      "[pca] >Fitting using PCA..\n",
      "[pca] >Computing loadings and PCs..\n",
      "[pca] >Computing explained variance..\n",
      "[pca] >Number of components is [8] that covers the [95.00%] explained variance.\n",
      "[pca] >The PCA reduction is performed on the [49152] columns of the input dataframe.\n",
      "[pca] >Fitting using PCA..\n"
     ]
    },
    {
     "name": "stderr",
     "output_type": "stream",
     "text": [
      "[clustimage] >INFO> Extracted features using [pca]: samples=21, features=8\n",
      "[clustimage] >INFO> Compute embedding using [tsne]\n"
     ]
    },
    {
     "name": "stdout",
     "output_type": "stream",
     "text": [
      "[pca] >Computing loadings and PCs..\n"
     ]
    },
    {
     "name": "stderr",
     "output_type": "stream",
     "text": [
      "[clustimage] >INFO> Cluster evaluation using the [high] feature space of the [pca] features.\n"
     ]
    },
    {
     "name": "stdout",
     "output_type": "stream",
     "text": [
      "\n",
      "[clusteval] >Fit using agglomerative with metric: euclidean, and linkage: ward\n",
      "[clusteval] >Evaluate using silhouette.\n"
     ]
    },
    {
     "name": "stderr",
     "output_type": "stream",
     "text": [
      "100%|██████████| 28/28 [00:00<00:00, 1641.72it/s]\n",
      "[clustimage] >INFO> Updating cluster-labels and cluster-model based on the (21, 8) feature-space.\n",
      "[clustimage] >INFO> Cleaning previous fitted model results\n",
      "[clustimage] >INFO> Reading and checking images.\n",
      "[clustimage] >INFO> Reading and checking images.\n"
     ]
    },
    {
     "name": "stdout",
     "output_type": "stream",
     "text": [
      "[clusteval] >Compute dendrogram threshold.\n",
      "[clusteval] >Optimal number clusters detected: [3].\n",
      "[clusteval] >Fin.\n",
      "/home/aubrey/Desktop/gpepp_nursery/30/30-020.png 0\n",
      "/home/aubrey/Desktop/gpepp_nursery/30/30-008.png 0\n",
      "/home/aubrey/Desktop/gpepp_nursery/30/30-004.png 0\n",
      "/home/aubrey/Desktop/gpepp_nursery/32/32-056.png 0\n",
      "/home/aubrey/Desktop/gpepp_nursery/32/32-019.png 0\n",
      "/home/aubrey/Desktop/gpepp_nursery/32/32-031.png 0\n",
      "/home/aubrey/Desktop/gpepp_nursery/38/38-006.png 1\n",
      "/home/aubrey/Desktop/gpepp_nursery/35/35-045.png 0\n",
      "/home/aubrey/Desktop/gpepp_nursery/35/35-040.png 0\n",
      "/home/aubrey/Desktop/gpepp_nursery/35/35-015.png 0\n",
      "/home/aubrey/Desktop/gpepp_nursery/35/35-018.png 0\n",
      "/home/aubrey/Desktop/gpepp_nursery/33/33-050.png 0\n",
      "/home/aubrey/Desktop/gpepp_nursery/33/33-119.png 0\n",
      "/home/aubrey/Desktop/gpepp_nursery/33/33-140.png 2\n",
      "/home/aubrey/Desktop/gpepp_nursery/33/33-019.png 2\n",
      "/home/aubrey/Desktop/gpepp_nursery/33/33-124.png 0\n",
      "/home/aubrey/Desktop/gpepp_nursery/33/33-008.png 0\n",
      "/home/aubrey/Desktop/gpepp_nursery/25/25-008.png 0\n",
      "/home/aubrey/Desktop/gpepp_nursery/25/25-006.png 1\n",
      "/home/aubrey/Desktop/gpepp_nursery/27/27-007.png 0\n",
      "/home/aubrey/Desktop/gpepp_nursery/27/27-003.png 0\n",
      "size_class = '0.5-to-0.6-mm'\n"
     ]
    },
    {
     "name": "stderr",
     "output_type": "stream",
     "text": [
      "100%|██████████| 15/15 [00:00<00:00, 9505.15it/s]\n",
      "[clustimage] >INFO> Extracting features using method: [pca]\n"
     ]
    },
    {
     "name": "stdout",
     "output_type": "stream",
     "text": [
      "[pca] >Column labels are auto-completed.\n",
      "[pca] >The PCA reduction is performed to capture [95.0%] explained variance using the [49152] columns of the input data.\n",
      "[pca] >Fitting using PCA..\n",
      "[pca] >Computing loadings and PCs..\n",
      "[pca] >Computing explained variance..\n",
      "[pca] >Number of components is [8] that covers the [95.00%] explained variance.\n",
      "[pca] >The PCA reduction is performed on the [49152] columns of the input dataframe.\n",
      "[pca] >Fitting using PCA..\n",
      "[pca] >Computing loadings and PCs..\n"
     ]
    },
    {
     "name": "stderr",
     "output_type": "stream",
     "text": [
      "[clustimage] >INFO> Extracted features using [pca]: samples=15, features=8\n",
      "[clustimage] >INFO> Compute embedding using [tsne]\n",
      "[clustimage] >INFO> Cluster evaluation using the [high] feature space of the [pca] features.\n"
     ]
    },
    {
     "name": "stdout",
     "output_type": "stream",
     "text": [
      "\n",
      "[clusteval] >Fit using agglomerative with metric: euclidean, and linkage: ward\n",
      "[clusteval] >Evaluate using silhouette.\n"
     ]
    },
    {
     "name": "stderr",
     "output_type": "stream",
     "text": [
      "100%|██████████| 28/28 [00:00<00:00, 1744.82it/s]\n",
      "[clustimage] >INFO> Updating cluster-labels and cluster-model based on the (15, 8) feature-space.\n",
      "[clustimage] >INFO> Cleaning previous fitted model results\n",
      "[clustimage] >INFO> Reading and checking images.\n",
      "[clustimage] >INFO> Reading and checking images.\n"
     ]
    },
    {
     "name": "stdout",
     "output_type": "stream",
     "text": [
      "[clusteval] >Compute dendrogram threshold.\n",
      "[clusteval] >Optimal number clusters detected: [2].\n",
      "[clusteval] >Fin.\n",
      "/home/aubrey/Desktop/gpepp_nursery/30/30-002.png 1\n",
      "/home/aubrey/Desktop/gpepp_nursery/29/29-006.png 1\n",
      "/home/aubrey/Desktop/gpepp_nursery/35/35-022.png 0\n",
      "/home/aubrey/Desktop/gpepp_nursery/35/35-021.png 0\n",
      "/home/aubrey/Desktop/gpepp_nursery/33/33-024.png 0\n",
      "/home/aubrey/Desktop/gpepp_nursery/33/33-121.png 0\n",
      "/home/aubrey/Desktop/gpepp_nursery/31/31-012.png 1\n",
      "/home/aubrey/Desktop/gpepp_nursery/31/31-014.png 1\n",
      "/home/aubrey/Desktop/gpepp_nursery/25/25-002.png 0\n",
      "/home/aubrey/Desktop/gpepp_nursery/27/27-062.png 0\n",
      "/home/aubrey/Desktop/gpepp_nursery/27/27-018.png 0\n",
      "/home/aubrey/Desktop/gpepp_nursery/27/27-052.png 0\n",
      "/home/aubrey/Desktop/gpepp_nursery/27/27-068.png 0\n",
      "/home/aubrey/Desktop/gpepp_nursery/27/27-026.png 0\n",
      "/home/aubrey/Desktop/gpepp_nursery/27/27-078.png 0\n",
      "size_class = '1-to-2-mm'\n"
     ]
    },
    {
     "name": "stderr",
     "output_type": "stream",
     "text": [
      "100%|██████████| 25/25 [00:00<00:00, 5079.57it/s]\n",
      "[clustimage] >INFO> Extracting features using method: [pca]\n"
     ]
    },
    {
     "name": "stdout",
     "output_type": "stream",
     "text": [
      "[pca] >Column labels are auto-completed.\n",
      "[pca] >The PCA reduction is performed to capture [95.0%] explained variance using the [49152] columns of the input data.\n",
      "[pca] >Fitting using PCA..\n",
      "[pca] >Computing loadings and PCs..\n",
      "[pca] >Computing explained variance..\n",
      "[pca] >Number of components is [11] that covers the [95.00%] explained variance.\n",
      "[pca] >The PCA reduction is performed on the [49152] columns of the input dataframe.\n",
      "[pca] >Fitting using PCA..\n",
      "[pca] >Computing loadings and PCs..\n"
     ]
    },
    {
     "name": "stderr",
     "output_type": "stream",
     "text": [
      "[clustimage] >INFO> Extracted features using [pca]: samples=25, features=11\n",
      "[clustimage] >INFO> Compute embedding using [tsne]\n",
      "[clustimage] >INFO> Cluster evaluation using the [high] feature space of the [pca] features.\n"
     ]
    },
    {
     "name": "stdout",
     "output_type": "stream",
     "text": [
      "\n",
      "[clusteval] >Fit using agglomerative with metric: euclidean, and linkage: ward\n",
      "[clusteval] >Evaluate using silhouette.\n"
     ]
    },
    {
     "name": "stderr",
     "output_type": "stream",
     "text": [
      "100%|██████████| 28/28 [00:00<00:00, 1084.49it/s]\n",
      "[clustimage] >INFO> Updating cluster-labels and cluster-model based on the (25, 11) feature-space.\n",
      "[clustimage] >INFO> Cleaning previous fitted model results\n",
      "[clustimage] >INFO> Reading and checking images.\n",
      "[clustimage] >INFO> Reading and checking images.\n"
     ]
    },
    {
     "name": "stdout",
     "output_type": "stream",
     "text": [
      "[clusteval] >Compute dendrogram threshold.\n",
      "[clusteval] >Optimal number clusters detected: [3].\n",
      "[clusteval] >Fin.\n",
      "/home/aubrey/Desktop/gpepp_nursery/30/30-003.png 0\n",
      "/home/aubrey/Desktop/gpepp_nursery/32/32-024.png 0\n",
      "/home/aubrey/Desktop/gpepp_nursery/32/32-009.png 0\n",
      "/home/aubrey/Desktop/gpepp_nursery/32/32-050.png 0\n",
      "/home/aubrey/Desktop/gpepp_nursery/35/35-024.png 0\n",
      "/home/aubrey/Desktop/gpepp_nursery/33/33-097.png 0\n",
      "/home/aubrey/Desktop/gpepp_nursery/33/33-025.png 0\n",
      "/home/aubrey/Desktop/gpepp_nursery/33/33-034.png 1\n",
      "/home/aubrey/Desktop/gpepp_nursery/33/33-012.png 1\n",
      "/home/aubrey/Desktop/gpepp_nursery/33/33-042.png 0\n",
      "/home/aubrey/Desktop/gpepp_nursery/26/26-004.png 2\n",
      "/home/aubrey/Desktop/gpepp_nursery/26/26-000.png 2\n",
      "/home/aubrey/Desktop/gpepp_nursery/26/26-011.png 2\n",
      "/home/aubrey/Desktop/gpepp_nursery/26/26-003.png 2\n",
      "/home/aubrey/Desktop/gpepp_nursery/26/26-002.png 1\n",
      "/home/aubrey/Desktop/gpepp_nursery/31/31-010.png 1\n",
      "/home/aubrey/Desktop/gpepp_nursery/31/31-007.png 1\n",
      "/home/aubrey/Desktop/gpepp_nursery/25/25-001.png 0\n",
      "/home/aubrey/Desktop/gpepp_nursery/25/25-000.png 0\n",
      "/home/aubrey/Desktop/gpepp_nursery/25/25-005.png 0\n",
      "/home/aubrey/Desktop/gpepp_nursery/27/27-070.png 1\n",
      "/home/aubrey/Desktop/gpepp_nursery/27/27-055.png 0\n",
      "/home/aubrey/Desktop/gpepp_nursery/27/27-064.png 0\n",
      "/home/aubrey/Desktop/gpepp_nursery/27/27-058.png 0\n",
      "/home/aubrey/Desktop/gpepp_nursery/27/27-046.png 1\n",
      "size_class = '0.8-to-0.9-mm'\n"
     ]
    },
    {
     "name": "stderr",
     "output_type": "stream",
     "text": [
      "100%|██████████| 7/7 [00:00<00:00, 4065.37it/s]\n",
      "[clustimage] >INFO> Extracting features using method: [pca]\n"
     ]
    },
    {
     "name": "stdout",
     "output_type": "stream",
     "text": [
      "[pca] >Column labels are auto-completed.\n",
      "[pca] >The PCA reduction is performed to capture [95.0%] explained variance using the [49152] columns of the input data.\n",
      "[pca] >Fitting using PCA..\n",
      "[pca] >Computing loadings and PCs..\n",
      "[pca] >Computing explained variance..\n",
      "[pca] >Number of components is [4] that covers the [95.00%] explained variance.\n",
      "[pca] >The PCA reduction is performed on the [49152] columns of the input dataframe.\n",
      "[pca] >Fitting using PCA..\n",
      "[pca] >Computing loadings and PCs..\n"
     ]
    },
    {
     "name": "stderr",
     "output_type": "stream",
     "text": [
      "[clustimage] >INFO> Extracted features using [pca]: samples=7, features=4\n",
      "[clustimage] >INFO> Compute embedding using [tsne]\n",
      "[clustimage] >INFO> Cluster evaluation using the [high] feature space of the [pca] features.\n"
     ]
    },
    {
     "name": "stdout",
     "output_type": "stream",
     "text": [
      "\n",
      "[clusteval] >Fit using agglomerative with metric: euclidean, and linkage: ward\n",
      "[clusteval] >Evaluate using silhouette.\n"
     ]
    },
    {
     "name": "stderr",
     "output_type": "stream",
     "text": [
      "100%|██████████| 28/28 [00:00<00:00, 1697.58it/s]\n",
      "[clustimage] >INFO> Updating cluster-labels and cluster-model based on the (7, 4) feature-space.\n",
      "[clustimage] >INFO> Cleaning previous fitted model results\n",
      "[clustimage] >INFO> Reading and checking images.\n",
      "[clustimage] >INFO> Reading and checking images.\n"
     ]
    },
    {
     "name": "stdout",
     "output_type": "stream",
     "text": [
      "[clusteval] >Compute dendrogram threshold.\n",
      "[clusteval] >Optimal number clusters detected: [2].\n",
      "[clusteval] >Fin.\n",
      "/home/aubrey/Desktop/gpepp_nursery/29/29-000.png 0\n",
      "/home/aubrey/Desktop/gpepp_nursery/35/35-023.png 0\n",
      "/home/aubrey/Desktop/gpepp_nursery/35/35-053.png 0\n",
      "/home/aubrey/Desktop/gpepp_nursery/33/33-059.png 0\n",
      "/home/aubrey/Desktop/gpepp_nursery/33/33-137.png 1\n",
      "/home/aubrey/Desktop/gpepp_nursery/26/26-015.png 1\n",
      "/home/aubrey/Desktop/gpepp_nursery/27/27-008.png 0\n",
      "size_class = '2-to-3-mm'\n"
     ]
    },
    {
     "name": "stderr",
     "output_type": "stream",
     "text": [
      "100%|██████████| 11/11 [00:00<00:00, 2151.13it/s]\n",
      "[clustimage] >INFO> Extracting features using method: [pca]\n"
     ]
    },
    {
     "name": "stdout",
     "output_type": "stream",
     "text": [
      "[pca] >Column labels are auto-completed.\n",
      "[pca] >The PCA reduction is performed to capture [95.0%] explained variance using the [49152] columns of the input data.\n",
      "[pca] >Fitting using PCA..\n",
      "[pca] >Computing loadings and PCs..\n",
      "[pca] >Computing explained variance..\n",
      "[pca] >Number of components is [8] that covers the [95.00%] explained variance.\n",
      "[pca] >The PCA reduction is performed on the [49152] columns of the input dataframe.\n",
      "[pca] >Fitting using PCA..\n",
      "[pca] >Computing loadings and PCs..\n"
     ]
    },
    {
     "name": "stderr",
     "output_type": "stream",
     "text": [
      "[clustimage] >INFO> Extracted features using [pca]: samples=11, features=8\n",
      "[clustimage] >INFO> Compute embedding using [tsne]\n",
      "[clustimage] >INFO> Cluster evaluation using the [high] feature space of the [pca] features.\n"
     ]
    },
    {
     "name": "stdout",
     "output_type": "stream",
     "text": [
      "\n",
      "[clusteval] >Fit using agglomerative with metric: euclidean, and linkage: ward\n",
      "[clusteval] >Evaluate using silhouette.\n"
     ]
    },
    {
     "name": "stderr",
     "output_type": "stream",
     "text": [
      "100%|██████████| 28/28 [00:00<00:00, 1925.63it/s]\n",
      "[clustimage] >INFO> Updating cluster-labels and cluster-model based on the (11, 8) feature-space.\n",
      "[clustimage] >INFO> Cleaning previous fitted model results\n",
      "[clustimage] >INFO> Reading and checking images.\n",
      "[clustimage] >INFO> Reading and checking images.\n"
     ]
    },
    {
     "name": "stdout",
     "output_type": "stream",
     "text": [
      "[clusteval] >Compute dendrogram threshold.\n",
      "[clusteval] >Optimal number clusters detected: [2].\n",
      "[clusteval] >Fin.\n",
      "/home/aubrey/Desktop/gpepp_nursery/32/32-020.png 1\n",
      "/home/aubrey/Desktop/gpepp_nursery/35/35-003.png 1\n",
      "/home/aubrey/Desktop/gpepp_nursery/35/35-027.png 1\n",
      "/home/aubrey/Desktop/gpepp_nursery/35/35-026.png 1\n",
      "/home/aubrey/Desktop/gpepp_nursery/33/33-139.png 0\n",
      "/home/aubrey/Desktop/gpepp_nursery/33/33-089.png 1\n",
      "/home/aubrey/Desktop/gpepp_nursery/26/26-012.png 1\n",
      "/home/aubrey/Desktop/gpepp_nursery/31/31-011.png 0\n",
      "/home/aubrey/Desktop/gpepp_nursery/31/31-016.png 0\n",
      "/home/aubrey/Desktop/gpepp_nursery/27/27-004.png 1\n",
      "/home/aubrey/Desktop/gpepp_nursery/27/27-079.png 1\n",
      "size_class = '4-to-5-mm'\n"
     ]
    },
    {
     "name": "stderr",
     "output_type": "stream",
     "text": [
      "100%|██████████| 3/3 [00:00<00:00, 1381.37it/s]\n",
      "[clustimage] >INFO> Extracting features using method: [pca]\n"
     ]
    },
    {
     "name": "stdout",
     "output_type": "stream",
     "text": [
      "[pca] >Column labels are auto-completed.\n",
      "[pca] >The PCA reduction is performed to capture [95.0%] explained variance using the [49152] columns of the input data.\n",
      "[pca] >Fitting using PCA..\n",
      "[pca] >Computing loadings and PCs..\n",
      "[pca] >Computing explained variance..\n",
      "[pca] >Number of components is [2] that covers the [95.00%] explained variance.\n",
      "[pca] >The PCA reduction is performed on the [49152] columns of the input dataframe.\n",
      "[pca] >Fitting using PCA..\n",
      "[pca] >Computing loadings and PCs..\n"
     ]
    },
    {
     "name": "stderr",
     "output_type": "stream",
     "text": [
      "[clustimage] >INFO> Extracted features using [pca]: samples=3, features=2\n",
      "[clustimage] >INFO> Compute embedding using [tsne]\n",
      "[clustimage] >INFO> Cluster evaluation using the [high] feature space of the [pca] features.\n"
     ]
    },
    {
     "name": "stdout",
     "output_type": "stream",
     "text": [
      "\n",
      "[clusteval] >Fit using agglomerative with metric: euclidean, and linkage: ward\n",
      "[clusteval] >Evaluate using silhouette.\n"
     ]
    },
    {
     "name": "stderr",
     "output_type": "stream",
     "text": [
      "100%|██████████| 28/28 [00:00<00:00, 15149.70it/s]\n",
      "[clustimage] >INFO> Updating cluster-labels and cluster-model based on the (3, 2) feature-space.\n",
      "[clustimage] >INFO> Cleaning previous fitted model results\n",
      "[clustimage] >INFO> Reading and checking images.\n",
      "[clustimage] >INFO> Reading and checking images.\n"
     ]
    },
    {
     "name": "stdout",
     "output_type": "stream",
     "text": [
      "[clusteval] >No clusters detected.\n",
      "[clusteval] >Optimal number clusters detected: [1].\n",
      "[clusteval] >Fin.\n",
      "/home/aubrey/Desktop/gpepp_nursery/35/35-008.png 0\n",
      "/home/aubrey/Desktop/gpepp_nursery/26/26-009.png 0\n",
      "/home/aubrey/Desktop/gpepp_nursery/26/26-008.png 0\n",
      "size_class = 'less-than-0.1-mm'\n",
      "size_class = '3-to-4-mm'\n"
     ]
    },
    {
     "name": "stderr",
     "output_type": "stream",
     "text": [
      "100%|██████████| 11/11 [00:00<00:00, 2202.58it/s]\n",
      "[clustimage] >INFO> Extracting features using method: [pca]\n"
     ]
    },
    {
     "name": "stdout",
     "output_type": "stream",
     "text": [
      "[pca] >Column labels are auto-completed.\n",
      "[pca] >The PCA reduction is performed to capture [95.0%] explained variance using the [49152] columns of the input data.\n",
      "[pca] >Fitting using PCA..\n",
      "[pca] >Computing loadings and PCs..\n",
      "[pca] >Computing explained variance..\n",
      "[pca] >Number of components is [7] that covers the [95.00%] explained variance.\n",
      "[pca] >The PCA reduction is performed on the [49152] columns of the input dataframe.\n",
      "[pca] >Fitting using PCA..\n",
      "[pca] >Computing loadings and PCs..\n"
     ]
    },
    {
     "name": "stderr",
     "output_type": "stream",
     "text": [
      "[clustimage] >INFO> Extracted features using [pca]: samples=11, features=7\n",
      "[clustimage] >INFO> Compute embedding using [tsne]\n",
      "[clustimage] >INFO> Cluster evaluation using the [high] feature space of the [pca] features.\n"
     ]
    },
    {
     "name": "stdout",
     "output_type": "stream",
     "text": [
      "\n",
      "[clusteval] >Fit using agglomerative with metric: euclidean, and linkage: ward\n",
      "[clusteval] >Evaluate using silhouette.\n"
     ]
    },
    {
     "name": "stderr",
     "output_type": "stream",
     "text": [
      "100%|██████████| 28/28 [00:00<00:00, 1971.47it/s]\n",
      "[clustimage] >INFO> Updating cluster-labels and cluster-model based on the (11, 7) feature-space.\n",
      "[clustimage] >INFO> Cleaning previous fitted model results\n",
      "[clustimage] >INFO> Reading and checking images.\n",
      "[clustimage] >INFO> Reading and checking images.\n"
     ]
    },
    {
     "name": "stdout",
     "output_type": "stream",
     "text": [
      "[clusteval] >Compute dendrogram threshold.\n",
      "[clusteval] >Optimal number clusters detected: [2].\n",
      "[clusteval] >Fin.\n",
      "/home/aubrey/Desktop/gpepp_nursery/35/35-032.png 1\n",
      "/home/aubrey/Desktop/gpepp_nursery/35/35-055.png 1\n",
      "/home/aubrey/Desktop/gpepp_nursery/33/33-032.png 1\n",
      "/home/aubrey/Desktop/gpepp_nursery/33/33-088.png 1\n",
      "/home/aubrey/Desktop/gpepp_nursery/26/26-014.png 1\n",
      "/home/aubrey/Desktop/gpepp_nursery/26/26-001.png 0\n",
      "/home/aubrey/Desktop/gpepp_nursery/26/26-006.png 1\n",
      "/home/aubrey/Desktop/gpepp_nursery/26/26-005.png 1\n",
      "/home/aubrey/Desktop/gpepp_nursery/31/31-001.png 0\n",
      "/home/aubrey/Desktop/gpepp_nursery/31/31-005.png 1\n",
      "/home/aubrey/Desktop/gpepp_nursery/27/27-072.png 1\n",
      "size_class = '5-to-6-mm'\n"
     ]
    },
    {
     "name": "stderr",
     "output_type": "stream",
     "text": [
      "100%|██████████| 3/3 [00:00<00:00, 1191.34it/s]\n",
      "[clustimage] >INFO> Extracting features using method: [pca]\n"
     ]
    },
    {
     "name": "stdout",
     "output_type": "stream",
     "text": [
      "[pca] >Column labels are auto-completed.\n",
      "[pca] >The PCA reduction is performed to capture [95.0%] explained variance using the [49152] columns of the input data.\n",
      "[pca] >Fitting using PCA..\n",
      "[pca] >Computing loadings and PCs..\n",
      "[pca] >Computing explained variance..\n",
      "[pca] >Number of components is [2] that covers the [95.00%] explained variance.\n",
      "[pca] >The PCA reduction is performed on the [49152] columns of the input dataframe.\n",
      "[pca] >Fitting using PCA..\n",
      "[pca] >Computing loadings and PCs..\n"
     ]
    },
    {
     "name": "stderr",
     "output_type": "stream",
     "text": [
      "[clustimage] >INFO> Extracted features using [pca]: samples=3, features=2\n",
      "[clustimage] >INFO> Compute embedding using [tsne]\n",
      "[clustimage] >INFO> Cluster evaluation using the [high] feature space of the [pca] features.\n"
     ]
    },
    {
     "name": "stdout",
     "output_type": "stream",
     "text": [
      "\n",
      "[clusteval] >Fit using agglomerative with metric: euclidean, and linkage: ward\n",
      "[clusteval] >Evaluate using silhouette.\n"
     ]
    },
    {
     "name": "stderr",
     "output_type": "stream",
     "text": [
      "100%|██████████| 28/28 [00:00<00:00, 10691.96it/s]\n",
      "[clustimage] >INFO> Updating cluster-labels and cluster-model based on the (3, 2) feature-space.\n",
      "[clustimage] >INFO> Cleaning previous fitted model results\n",
      "[clustimage] >INFO> Reading and checking images.\n",
      "[clustimage] >INFO> Reading and checking images.\n"
     ]
    },
    {
     "name": "stdout",
     "output_type": "stream",
     "text": [
      "[clusteval] >No clusters detected.\n",
      "[clusteval] >Optimal number clusters detected: [1].\n",
      "[clusteval] >Fin.\n",
      "/home/aubrey/Desktop/gpepp_nursery/33/33-110.png 0\n",
      "/home/aubrey/Desktop/gpepp_nursery/26/26-007.png 0\n",
      "/home/aubrey/Desktop/gpepp_nursery/27/27-067.png 0\n",
      "size_class = '0.9-to-1.0-mm'\n"
     ]
    },
    {
     "name": "stderr",
     "output_type": "stream",
     "text": [
      "100%|██████████| 11/11 [00:00<00:00, 5810.75it/s]\n",
      "[clustimage] >INFO> Extracting features using method: [pca]\n"
     ]
    },
    {
     "name": "stdout",
     "output_type": "stream",
     "text": [
      "[pca] >Column labels are auto-completed.\n",
      "[pca] >The PCA reduction is performed to capture [95.0%] explained variance using the [49152] columns of the input data.\n",
      "[pca] >Fitting using PCA..\n",
      "[pca] >Computing loadings and PCs..\n",
      "[pca] >Computing explained variance..\n",
      "[pca] >Number of components is [7] that covers the [95.00%] explained variance.\n",
      "[pca] >The PCA reduction is performed on the [49152] columns of the input dataframe.\n",
      "[pca] >Fitting using PCA..\n",
      "[pca] >Computing loadings and PCs..\n"
     ]
    },
    {
     "name": "stderr",
     "output_type": "stream",
     "text": [
      "[clustimage] >INFO> Extracted features using [pca]: samples=11, features=7\n",
      "[clustimage] >INFO> Compute embedding using [tsne]\n",
      "[clustimage] >INFO> Cluster evaluation using the [high] feature space of the [pca] features.\n"
     ]
    },
    {
     "name": "stdout",
     "output_type": "stream",
     "text": [
      "\n",
      "[clusteval] >Fit using agglomerative with metric: euclidean, and linkage: ward\n",
      "[clusteval] >Evaluate using silhouette.\n"
     ]
    },
    {
     "name": "stderr",
     "output_type": "stream",
     "text": [
      "100%|██████████| 28/28 [00:00<00:00, 1636.46it/s]\n",
      "[clustimage] >INFO> Updating cluster-labels and cluster-model based on the (11, 7) feature-space.\n"
     ]
    },
    {
     "name": "stdout",
     "output_type": "stream",
     "text": [
      "[clusteval] >Compute dendrogram threshold.\n",
      "[clusteval] >Optimal number clusters detected: [2].\n",
      "[clusteval] >Fin.\n",
      "/home/aubrey/Desktop/gpepp_nursery/33/33-027.png 0\n",
      "/home/aubrey/Desktop/gpepp_nursery/31/31-015.png 1\n",
      "/home/aubrey/Desktop/gpepp_nursery/31/31-009.png 1\n",
      "/home/aubrey/Desktop/gpepp_nursery/31/31-003.png 1\n",
      "/home/aubrey/Desktop/gpepp_nursery/31/31-000.png 0\n",
      "/home/aubrey/Desktop/gpepp_nursery/25/25-004.png 0\n",
      "/home/aubrey/Desktop/gpepp_nursery/27/27-066.png 0\n",
      "/home/aubrey/Desktop/gpepp_nursery/27/27-020.png 1\n",
      "/home/aubrey/Desktop/gpepp_nursery/27/27-077.png 1\n",
      "/home/aubrey/Desktop/gpepp_nursery/27/27-035.png 0\n",
      "/home/aubrey/Desktop/gpepp_nursery/27/27-063.png 0\n",
      "size_class = '7-to-8-mm'\n",
      "size_class = '8-to-9-mm'\n",
      "size_class = '6-to-7-mm'\n",
      "FINISHED\n"
     ]
    }
   ],
   "source": [
    "print('Running clustimage.ipynb.')\n",
    "pd.set_option('max_colwidth', 0)\n",
    "df = pd.read_csv(catalog_path)\n",
    "size_classes = df['size_class'].unique().tolist()\n",
    "\n",
    "for size_class in size_classes:\n",
    "    imagelist = df['path'][df['size_class']==size_class].tolist()\n",
    "    size_class = size_class.replace(' ', '-')\n",
    "    print(f'{size_class = }')\n",
    "\n",
    "    if len(imagelist) > 2:\n",
    "        cl = Clustimage()\n",
    "        results = cl.fit_transform(imagelist, min_clust=1, max_clust=30)\n",
    "\n",
    "#         # Cluster evaluation\n",
    "#         cl.clusteval.plot()\n",
    "#         cl.clusteval.scatter(cl.results['xycoord'])\n",
    "#         cl.pca.plot()\n",
    "\n",
    "#         # Dendrogram\n",
    "#         cl.dendrogram(figsize=(30,10))\n",
    "\n",
    "#         # Plot unique image per cluster\n",
    "#         # cl.plot_unique(img_mean=False, show_hog=True)\n",
    "\n",
    "#         # cl.plot()\n",
    "\n",
    "#         # Update catalog: add cluster number\n",
    "\n",
    "        pathnames = list(results['pathnames'])\n",
    "        labels = list(results['labels'])\n",
    "        paths_and_labels = list(zip(pathnames, labels))\n",
    "\n",
    "        for path_and_label in paths_and_labels:\n",
    "            path, label = path_and_label\n",
    "            print(path, label)\n",
    "            df.loc[df['path'] == path, 'cluster'] = label\n",
    "\n",
    "        df.to_csv(catalog_path, index=False)\n",
    "        \n",
    "print('FINISHED')"
   ]
  },
  {
   "cell_type": "code",
   "execution_count": 6,
   "id": "5b1c0a7c-daef-4535-92c4-aab2b8790f27",
   "metadata": {},
   "outputs": [
    {
     "data": {
      "text/html": [
       "<div>\n",
       "<style scoped>\n",
       "    .dataframe tbody tr th:only-of-type {\n",
       "        vertical-align: middle;\n",
       "    }\n",
       "\n",
       "    .dataframe tbody tr th {\n",
       "        vertical-align: top;\n",
       "    }\n",
       "\n",
       "    .dataframe thead th {\n",
       "        text-align: right;\n",
       "    }\n",
       "</style>\n",
       "<table border=\"1\" class=\"dataframe\">\n",
       "  <thead>\n",
       "    <tr style=\"text-align: right;\">\n",
       "      <th></th>\n",
       "      <th>path</th>\n",
       "      <th>height</th>\n",
       "      <th>width</th>\n",
       "      <th>px_size</th>\n",
       "      <th>mm_size</th>\n",
       "      <th>size_class</th>\n",
       "      <th>cluster</th>\n",
       "    </tr>\n",
       "  </thead>\n",
       "  <tbody>\n",
       "    <tr>\n",
       "      <th>0</th>\n",
       "      <td>/home/aubrey/Desktop/gpepp_nursery/28/28-009.png</td>\n",
       "      <td>7</td>\n",
       "      <td>7</td>\n",
       "      <td>7</td>\n",
       "      <td>0.192440</td>\n",
       "      <td>0.1-to-0.2-mm</td>\n",
       "      <td>1</td>\n",
       "    </tr>\n",
       "    <tr>\n",
       "      <th>1</th>\n",
       "      <td>/home/aubrey/Desktop/gpepp_nursery/28/28-008.png</td>\n",
       "      <td>7</td>\n",
       "      <td>11</td>\n",
       "      <td>11</td>\n",
       "      <td>0.302405</td>\n",
       "      <td>0.3-to-0.4-mm</td>\n",
       "      <td>1</td>\n",
       "    </tr>\n",
       "    <tr>\n",
       "      <th>2</th>\n",
       "      <td>/home/aubrey/Desktop/gpepp_nursery/28/28-003.png</td>\n",
       "      <td>9</td>\n",
       "      <td>8</td>\n",
       "      <td>9</td>\n",
       "      <td>0.247423</td>\n",
       "      <td>0.2-to-0.3-mm</td>\n",
       "      <td>0</td>\n",
       "    </tr>\n",
       "    <tr>\n",
       "      <th>3</th>\n",
       "      <td>/home/aubrey/Desktop/gpepp_nursery/28/28-005.png</td>\n",
       "      <td>13</td>\n",
       "      <td>27</td>\n",
       "      <td>27</td>\n",
       "      <td>0.742268</td>\n",
       "      <td>0.7-to-0.8-mm</td>\n",
       "      <td>0</td>\n",
       "    </tr>\n",
       "    <tr>\n",
       "      <th>4</th>\n",
       "      <td>/home/aubrey/Desktop/gpepp_nursery/28/28-002.png</td>\n",
       "      <td>7</td>\n",
       "      <td>10</td>\n",
       "      <td>10</td>\n",
       "      <td>0.274914</td>\n",
       "      <td>0.2-to-0.3-mm</td>\n",
       "      <td>0</td>\n",
       "    </tr>\n",
       "    <tr>\n",
       "      <th>...</th>\n",
       "      <td>...</td>\n",
       "      <td>...</td>\n",
       "      <td>...</td>\n",
       "      <td>...</td>\n",
       "      <td>...</td>\n",
       "      <td>...</td>\n",
       "      <td>...</td>\n",
       "    </tr>\n",
       "    <tr>\n",
       "      <th>439</th>\n",
       "      <td>/home/aubrey/Desktop/gpepp_nursery/27/27-054.png</td>\n",
       "      <td>8</td>\n",
       "      <td>8</td>\n",
       "      <td>8</td>\n",
       "      <td>0.219931</td>\n",
       "      <td>0.2-to-0.3-mm</td>\n",
       "      <td>0</td>\n",
       "    </tr>\n",
       "    <tr>\n",
       "      <th>440</th>\n",
       "      <td>/home/aubrey/Desktop/gpepp_nursery/27/27-078.png</td>\n",
       "      <td>21</td>\n",
       "      <td>17</td>\n",
       "      <td>21</td>\n",
       "      <td>0.577320</td>\n",
       "      <td>0.5-to-0.6-mm</td>\n",
       "      <td>0</td>\n",
       "    </tr>\n",
       "    <tr>\n",
       "      <th>441</th>\n",
       "      <td>/home/aubrey/Desktop/gpepp_nursery/27/27-060.png</td>\n",
       "      <td>7</td>\n",
       "      <td>7</td>\n",
       "      <td>7</td>\n",
       "      <td>0.192440</td>\n",
       "      <td>0.1-to-0.2-mm</td>\n",
       "      <td>1</td>\n",
       "    </tr>\n",
       "    <tr>\n",
       "      <th>442</th>\n",
       "      <td>/home/aubrey/Desktop/gpepp_nursery/27/27-015.png</td>\n",
       "      <td>15</td>\n",
       "      <td>12</td>\n",
       "      <td>15</td>\n",
       "      <td>0.412371</td>\n",
       "      <td>0.4-to-0.5-mm</td>\n",
       "      <td>1</td>\n",
       "    </tr>\n",
       "    <tr>\n",
       "      <th>443</th>\n",
       "      <td>/home/aubrey/Desktop/gpepp_nursery/27/27-033.png</td>\n",
       "      <td>11</td>\n",
       "      <td>8</td>\n",
       "      <td>11</td>\n",
       "      <td>0.302405</td>\n",
       "      <td>0.3-to-0.4-mm</td>\n",
       "      <td>1</td>\n",
       "    </tr>\n",
       "  </tbody>\n",
       "</table>\n",
       "<p>444 rows × 7 columns</p>\n",
       "</div>"
      ],
      "text/plain": [
       "                                                 path  height  width  px_size  \\\n",
       "0    /home/aubrey/Desktop/gpepp_nursery/28/28-009.png  7       7      7         \n",
       "1    /home/aubrey/Desktop/gpepp_nursery/28/28-008.png  7       11     11        \n",
       "2    /home/aubrey/Desktop/gpepp_nursery/28/28-003.png  9       8      9         \n",
       "3    /home/aubrey/Desktop/gpepp_nursery/28/28-005.png  13      27     27        \n",
       "4    /home/aubrey/Desktop/gpepp_nursery/28/28-002.png  7       10     10        \n",
       "..                                                ... ..       ..     ..        \n",
       "439  /home/aubrey/Desktop/gpepp_nursery/27/27-054.png  8       8      8         \n",
       "440  /home/aubrey/Desktop/gpepp_nursery/27/27-078.png  21      17     21        \n",
       "441  /home/aubrey/Desktop/gpepp_nursery/27/27-060.png  7       7      7         \n",
       "442  /home/aubrey/Desktop/gpepp_nursery/27/27-015.png  15      12     15        \n",
       "443  /home/aubrey/Desktop/gpepp_nursery/27/27-033.png  11      8      11        \n",
       "\n",
       "      mm_size     size_class  cluster  \n",
       "0    0.192440  0.1-to-0.2-mm  1        \n",
       "1    0.302405  0.3-to-0.4-mm  1        \n",
       "2    0.247423  0.2-to-0.3-mm  0        \n",
       "3    0.742268  0.7-to-0.8-mm  0        \n",
       "4    0.274914  0.2-to-0.3-mm  0        \n",
       "..        ...            ... ..        \n",
       "439  0.219931  0.2-to-0.3-mm  0        \n",
       "440  0.577320  0.5-to-0.6-mm  0        \n",
       "441  0.192440  0.1-to-0.2-mm  1        \n",
       "442  0.412371  0.4-to-0.5-mm  1        \n",
       "443  0.302405  0.3-to-0.4-mm  1        \n",
       "\n",
       "[444 rows x 7 columns]"
      ]
     },
     "execution_count": 6,
     "metadata": {},
     "output_type": "execute_result"
    }
   ],
   "source": [
    "df"
   ]
  }
 ],
 "metadata": {
  "kernelspec": {
   "display_name": "Python 3",
   "language": "python",
   "name": "python3"
  },
  "language_info": {
   "codemirror_mode": {
    "name": "ipython",
    "version": 3
   },
   "file_extension": ".py",
   "mimetype": "text/x-python",
   "name": "python",
   "nbconvert_exporter": "python",
   "pygments_lexer": "ipython3",
   "version": "3.8.8"
  }
 },
 "nbformat": 4,
 "nbformat_minor": 5
}
