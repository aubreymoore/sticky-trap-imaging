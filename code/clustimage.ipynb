{
 "cells": [
  {
   "cell_type": "code",
   "execution_count": 16,
   "id": "053ad229-ecd9-469d-a0fe-9ecb4d3c717c",
   "metadata": {},
   "outputs": [],
   "source": [
    "from clustimage import Clustimage\n",
    "import pandas as pd\n",
    "import glob"
   ]
  },
  {
   "cell_type": "code",
   "execution_count": 17,
   "id": "1a70ce34-b15d-4fb3-bc1c-b6396548d847",
   "metadata": {
    "tags": [
     "parameters"
    ]
   },
   "outputs": [],
   "source": [
    "# This cell is tagged as \"parameters\" to allow use by papermill\n",
    "\n",
    "# FILE_LIST_GLOB = '/home/aubrey/Desktop/libcamera/tinian_cycads_cropped/40/0*a.png'\n",
    "# FILE_LIST_GLOB = '/home/aubrey/Desktop/tinian_sticky_trap_images/*/[0-9][0-9][0-9].png'\n",
    "CATALOG_PATH = '/home/aubrey/Desktop/tinian_sticky_trap_images/catalog.csv'\n",
    "SIZE_CLASS = '4 to 5 mm'"
   ]
  },
  {
   "cell_type": "code",
   "execution_count": 18,
   "id": "9ca96ae4-dc6d-46a9-a4d5-6c8c6da943ec",
   "metadata": {},
   "outputs": [
    {
     "data": {
      "text/plain": [
       "[]"
      ]
     },
     "execution_count": 18,
     "metadata": {},
     "output_type": "execute_result"
    }
   ],
   "source": [
    "pd.set_option('max_colwidth', 0)\n",
    "df = pd.read_csv(CATALOG_PATH)\n",
    "imagelist = df['path'][df['size_class']==SIZE_CLASS].tolist()\n",
    "imagelist"
   ]
  },
  {
   "cell_type": "code",
   "execution_count": 19,
   "id": "92901911-fef6-4898-9d97-47452cefefdd",
   "metadata": {},
   "outputs": [],
   "source": [
    "if len(imagelist) > 1:\n",
    "    cl = Clustimage()\n",
    "    results = cl.fit_transform(imagelist, min_clust=1, max_clust=30)\n",
    "\n",
    "    # Cluster evaluation\n",
    "    cl.clusteval.plot()\n",
    "    cl.clusteval.scatter(cl.results['xycoord'])\n",
    "    cl.pca.plot()\n",
    "\n",
    "    # Dendrogram\n",
    "    # cl.dendrogram(figsize=(30,10))\n",
    "\n",
    "    # Plot unique image per cluster\n",
    "    # cl.plot_unique(img_mean=False, show_hog=True)\n",
    "\n",
    "    cl.plot()\n",
    "\n",
    "    # Update catalog: add cluster number\n",
    "\n",
    "    pathnames = list(results['pathnames'])\n",
    "    labels = list(results['labels'])\n",
    "    paths_and_labels = list(zip(pathnames, labels))\n",
    "\n",
    "    for path_and_label in paths_and_labels:\n",
    "        path, label = path_and_label\n",
    "        print(path, label)\n",
    "        df.loc[df['path'] == path, 'cluster'] = label\n",
    "\n",
    "    df.to_csv(CATALOG_PATH, index=False)"
   ]
  },
  {
   "cell_type": "code",
   "execution_count": 20,
   "id": "5b1c0a7c-daef-4535-92c4-aab2b8790f27",
   "metadata": {},
   "outputs": [
    {
     "name": "stdout",
     "output_type": "stream",
     "text": [
      "Finished.\n"
     ]
    }
   ],
   "source": [
    "print('Finished.')"
   ]
  }
 ],
 "metadata": {
  "kernelspec": {
   "display_name": "Python 3",
   "language": "python",
   "name": "python3"
  },
  "language_info": {
   "codemirror_mode": {
    "name": "ipython",
    "version": 3
   },
   "file_extension": ".py",
   "mimetype": "text/x-python",
   "name": "python",
   "nbconvert_exporter": "python",
   "pygments_lexer": "ipython3",
   "version": "3.8.8"
  }
 },
 "nbformat": 4,
 "nbformat_minor": 5
}
