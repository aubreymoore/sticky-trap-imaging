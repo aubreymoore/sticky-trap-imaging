{
 "cells": [
  {
   "cell_type": "markdown",
   "id": "3c23b27d-89cf-4355-810b-d6b3214e1914",
   "metadata": {},
   "source": [
    "# get_dataset.ipynb\n",
    "\n",
    "This Jupyter notebook performs thes steps:\n",
    "* a GitHub repository of original sticky trap images, **REPO**, is cloned into a specified folder, **DATADIR**.\n",
    "* the **.git** subfolder is deleted to save room.\n",
    "* a list of images, **imagelist**, is created\n",
    "* if a file named **blacklist.csv** is found in the repo, items in this list are removed from **imagelist**\n",
    "* a subfolder is created for each image in **imagelist** and is populated with a symlink to the original image (symlinks are used to save storage space)\n",
    "* **imagelist** is saved in **{DATADIR}/imagelist.csv**."
   ]
  },
  {
   "cell_type": "code",
   "execution_count": 8,
   "id": "6f543f65-f866-41aa-9ec7-5a790d1aee1b",
   "metadata": {},
   "outputs": [],
   "source": [
    "import os\n",
    "import shutil\n",
    "import glob\n",
    "import pandas as pd"
   ]
  },
  {
   "cell_type": "code",
   "execution_count": 9,
   "id": "39e9abb6-1df6-4a48-b09d-4613b562c567",
   "metadata": {
    "tags": [
     "parameters"
    ]
   },
   "outputs": [],
   "source": [
    "# This cell is tagged as \"parameters\" to facilitate running using papermill\n",
    "REPO = 'https://github.com/aubreymoore/Tinian-sticky-traps-2022-02-26'\n",
    "DATADIR = '/home/aubrey/Desktop/test'"
   ]
  },
  {
   "cell_type": "code",
   "execution_count": 10,
   "id": "bdfdf839-3444-436c-befa-269ba4d3780f",
   "metadata": {},
   "outputs": [],
   "source": [
    "def download_original_images():\n",
    "    command = f'git clone {REPO} {DATADIR}/repo'\n",
    "    os.system(command)\n",
    "    command = f'rm -rf {DATADIR}/.git'\n",
    "    os.system(command)"
   ]
  },
  {
   "cell_type": "code",
   "execution_count": 11,
   "id": "bdd4573b-6f38-4546-a675-d34ccec02728",
   "metadata": {},
   "outputs": [],
   "source": [
    "def remove_blacklisted_filenames_from_imagelist(imagelist):\n",
    "    \"\"\"\n",
    "    If a file named 'blacklist.csv' is found in the rep folder, black-listed files will be removed from imagelist.\n",
    "    Here's an example blacklist.csv:\n",
    "    \n",
    "    filename\n",
    "    scale.png\n",
    "    40.png\n",
    "    \"\"\"\n",
    "    bl = f'{DATADIR}/repo/blacklist.csv'\n",
    "    if os.path.exists(bl):\n",
    "        print('   blacklist.csv found')\n",
    "        df = pd.read_csv(bl)\n",
    "        for i, r in df.iterrows():\n",
    "            imagelist.remove(f'{DATADIR}/repo/{r.filename}')\n",
    "    else:\n",
    "        print('   WARNING: blacklist.csv not found')\n",
    "    return imagelist"
   ]
  },
  {
   "cell_type": "code",
   "execution_count": 12,
   "id": "916f0446-6565-4943-a0c0-8627db64d856",
   "metadata": {},
   "outputs": [],
   "source": [
    "def create_folder_for_each_image():\n",
    "    for filepath in imagelist:\n",
    "        filename = os.path.basename(filepath)\n",
    "        sn = filename.replace('.png', '')\n",
    "        os.mkdir(f'{DATADIR}/{sn}')\n",
    "        symlink = f'{DATADIR}/{sn}/original.png'         \n",
    "        os.symlink(filepath, symlink)"
   ]
  },
  {
   "cell_type": "code",
   "execution_count": 13,
   "id": "65990782-564d-4b56-b6db-a905e8dc4b0b",
   "metadata": {},
   "outputs": [],
   "source": [
    "def save_imagelist_as_csv(imagelist):\n",
    "    f = f'{DATADIR}/imagelist.csv'\n",
    "    print(f'   Saving imagelist to {f}')\n",
    "    df = pd.DataFrame({'filename': imagelist})\n",
    "    df.to_csv(f, index=False)\n",
    "\n",
    "# save_imagelist_as_csv(imagelist)"
   ]
  },
  {
   "cell_type": "code",
   "execution_count": 14,
   "id": "8aa810c1-d29e-49cb-a523-3d0e638090a3",
   "metadata": {},
   "outputs": [
    {
     "name": "stdout",
     "output_type": "stream",
     "text": [
      "Starting from scratch: deleting /home/aubrey/Desktop/test\n",
      "Downloading original images.\n",
      "   Cloning https://github.com/aubreymoore/Tinian-sticky-traps-2022-02-26 to /home/aubrey/Desktop/test/repo\n",
      "Creating imagelist and removing blacklisted items.\n",
      "   blacklist.csv found\n",
      "Saving imagelist\n",
      "   Saving imagelist to /home/aubrey/Desktop/test/imagelist.csv\n",
      "Creating a folder for each image and adding a symlink to original image.\n",
      "Deleting .git to save room.\n",
      "Finished.\n"
     ]
    }
   ],
   "source": [
    "# MAIN\n",
    "print(f'Starting from scratch: deleting {DATADIR}')\n",
    "shutil.rmtree(DATADIR)\n",
    "\n",
    "print('Downloading original images.')\n",
    "print(f'   Cloning {REPO} to {DATADIR}/repo')     \n",
    "download_original_images()\n",
    "      \n",
    "print('Creating imagelist and removing blacklisted items.')\n",
    "imagelist = glob.glob(f'{DATADIR}/repo/*.png')\n",
    "imagelist = remove_blacklisted_filenames_from_imagelist(imagelist)\n",
    "      \n",
    "print('Saving imagelist')\n",
    "save_imagelist_as_csv(imagelist)\n",
    "      \n",
    "print('Creating a folder for each image and adding a symlink to original image.')\n",
    "create_folder_for_each_image()\n",
    "      \n",
    "print('Deleting .git to save room.')\n",
    "shutil.rmtree(f'{DATADIR}/repo/.git')\n",
    "\n",
    "print('Finished.')"
   ]
  },
  {
   "cell_type": "code",
   "execution_count": null,
   "id": "bd816d20-0fdd-457f-859d-db9136835b3d",
   "metadata": {},
   "outputs": [],
   "source": []
  }
 ],
 "metadata": {
  "kernelspec": {
   "display_name": "Python 3",
   "language": "python",
   "name": "python3"
  },
  "language_info": {
   "codemirror_mode": {
    "name": "ipython",
    "version": 3
   },
   "file_extension": ".py",
   "mimetype": "text/x-python",
   "name": "python",
   "nbconvert_exporter": "python",
   "pygments_lexer": "ipython3",
   "version": "3.8.8"
  }
 },
 "nbformat": 4,
 "nbformat_minor": 5
}
