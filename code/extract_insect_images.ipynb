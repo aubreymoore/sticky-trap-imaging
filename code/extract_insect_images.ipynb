{
 "cells": [
  {
   "cell_type": "markdown",
   "id": "7b76ab26-aaa6-4639-bc7f-2bb942a05fb4",
   "metadata": {
    "papermill": {
     "duration": 0.003879,
     "end_time": "2022-04-12T01:08:30.776968",
     "exception": false,
     "start_time": "2022-04-12T01:08:30.773089",
     "status": "completed"
    },
    "tags": []
   },
   "source": [
    "# extract_insect_images.ipynb\n",
    "\n",
    "This notebook:\n",
    "* reads a a sticky trap image file (**IMAGEPATH**)\n",
    "* detects all insects\n",
    "* extracts each insect as an image and stores it in a folder (**OUTPUTPATH**) \n",
    "* insects images close to the edges of the image and close to the qrcode label at the center are excluded\n",
    "* insect images with an aspect ratio exceeding MAX_ASPECT_RATIO are excluded.\n",
    "\n",
    "2022-04-12 added code to delete insect images near edges"
   ]
  },
  {
   "cell_type": "code",
   "execution_count": 1,
   "id": "f639c093-36db-498c-a7e2-08636214e286",
   "metadata": {
    "papermill": {
     "duration": 0.233699,
     "end_time": "2022-04-12T01:08:31.017607",
     "exception": false,
     "start_time": "2022-04-12T01:08:30.783908",
     "status": "completed"
    },
    "tags": []
   },
   "outputs": [],
   "source": [
    "import cv2\n",
    "import numpy as np\n",
    "import matplotlib.pyplot as plt\n",
    "import os\n",
    "import shutil\n",
    "import numpy as np\n",
    "from shapely.geometry import Polygon\n",
    "import pandas as pd"
   ]
  },
  {
   "cell_type": "code",
   "execution_count": 2,
   "id": "18d12d41-d5df-4fe8-9a9f-ae7be979cd9d",
   "metadata": {
    "papermill": {
     "duration": 0.007233,
     "end_time": "2022-04-12T01:08:31.028290",
     "exception": false,
     "start_time": "2022-04-12T01:08:31.021057",
     "status": "completed"
    },
    "tags": [
     "parameters"
    ]
   },
   "outputs": [],
   "source": [
    "# This cell is tagged as \"parameters\" to enable use of papermill\n",
    "\n",
    "DATADIR = '/home/aubrey/Desktop/gpepp_nursery'\n",
    "CANNY = 45\n",
    "MAX_ASPECT_RATIO = 4.0"
   ]
  },
  {
   "cell_type": "code",
   "execution_count": 3,
   "id": "656efc52-b94f-4eeb-b966-92b83179189e",
   "metadata": {
    "papermill": {
     "duration": 0.012082,
     "end_time": "2022-04-12T01:08:31.059370",
     "exception": false,
     "start_time": "2022-04-12T01:08:31.047288",
     "status": "completed"
    },
    "tags": []
   },
   "outputs": [],
   "source": [
    "def rotate_and_crop(imagepath, outputpath, rects):\n",
    "    '''\n",
    "    imagepath: path to image file\n",
    "    \n",
    "    rects: a list of rectangular areas returned by bugcount; cv2.minAreaRect formats each rectangle as:\n",
    "          (center(x, y), (width, height), angle of rotation)\n",
    "        \n",
    "    outputpath: specifies a directory in which rotated and cropped images are saved; each is named NNN.png\n",
    "    \n",
    "    Code inspired by https://jdhao.github.io/2019/02/23/crop_rotated_rectangle_opencv/\n",
    "    '''\n",
    "    \n",
    "    img = cv2.imread(imagepath)\n",
    "    \n",
    "    for i, rect in enumerate(rects):\n",
    "        box = cv2.boxPoints(rect)\n",
    "        box = np.int0(box)\n",
    "\n",
    "        # get width and height of the detected rectangle\n",
    "        width = int(rect[1][0])\n",
    "        height = int(rect[1][1])\n",
    "        src_pts = box.astype(\"float32\")\n",
    "\n",
    "        # coordinate of the points in box points after the rectangle has been straightened\n",
    "        dst_pts = np.array([[0, height-1],\n",
    "                            [0, 0],\n",
    "                            [width-1, 0],\n",
    "                            [width-1, height-1]], dtype=\"float32\")\n",
    "\n",
    "        # the perspective transformation matrix\n",
    "        M = cv2.getPerspectiveTransform(src_pts, dst_pts)\n",
    "\n",
    "        # directly warp the rotated rectangle to get the straightened rectangle\n",
    "        warped = cv2.warpPerspective(img, M, (width, height))\n",
    "        \n",
    "        sn = outputpath.split('/')[-1] \n",
    "        fname = f'{outputpath}/{sn}-{i:03d}.png'\n",
    "        cv2.imwrite(fname, warped)"
   ]
  },
  {
   "cell_type": "code",
   "execution_count": 4,
   "id": "ff5fa44d-4cdc-4615-b96f-4c473ef85158",
   "metadata": {
    "papermill": {
     "duration": 0.016251,
     "end_time": "2022-04-12T01:08:31.081459",
     "exception": false,
     "start_time": "2022-04-12T01:08:31.065208",
     "status": "completed"
    },
    "tags": []
   },
   "outputs": [],
   "source": [
    "def bugcount(imagepath, canny=75):\n",
    "    '''\n",
    "    This code is based on bugcount.py from https://github.com/ytakefuji/counting-for-entomologists.\n",
    "    '''\n",
    "    img = cv2.imread(imagepath)\n",
    "    gray = cv2.cvtColor(img, cv2.COLOR_BGR2GRAY)\n",
    "    blurred = cv2.GaussianBlur(gray, (5,5), 0)\n",
    "    blurred = cv2.GaussianBlur(blurred, (7,7), 0)\n",
    "    coeff=int((blurred.max()-blurred.min())/100)\n",
    "    if coeff==1: \n",
    "        coeff=1 \n",
    "    else: \n",
    "        coeff=3\n",
    "    outline = cv2.Canny(blurred, 0, int(canny)*coeff)\n",
    "    outline= cv2.GaussianBlur(outline, (3,3), 0)\n",
    "    \n",
    "    # remove contours near edges or center of image or those exceeding MAX_ASPECT_RATIO\n",
    "    contours, _ = cv2.findContours(outline,cv2.RETR_EXTERNAL,cv2.CHAIN_APPROX_SIMPLE) \n",
    "    contours = find_contours_not_touching_edge(contours, xmin=1, xmax=img.shape[1]-1, ymin=1, ymax=img.shape[0]-1)\n",
    "    contours = find_contours_not_near_center(contours)\n",
    "    contours = find_contours_not_exceeding_max_aspect_ratio(contours)\n",
    "       \n",
    "    cv2.drawContours(img, contours, -1, (0, 255, 0), 2)    \n",
    "    cv2.putText(img,f'{imagepath} canny: {canny} contour count: {len(contours)}',(30,30),cv2.FONT_HERSHEY_SIMPLEX,1,(255,0,0),2)\n",
    "    \n",
    "    # Calculate bounding boxes\n",
    "\n",
    "    boxes = []\n",
    "    rects = []\n",
    "    for i, contour in enumerate(contours):\n",
    "        rect = cv2.minAreaRect(contour)\n",
    "        rects.append(rect)\n",
    "        box = np.int0(cv2.boxPoints(rect))\n",
    "        boxes.append(box)\n",
    "        cv2.drawContours(img, [box], 0, (0, 0, 255), 3) \n",
    "        xcenter = int((box[0][0]+box[1][0]+box[2][0]+box[3][0])/4)\n",
    "        ycenter = int((box[0][1]+box[1][1]+box[2][1]+box[3][1])/4)\n",
    "        cv2.putText(img, str(i), (xcenter, ycenter), cv2.FONT_HERSHEY_SIMPLEX, 1, (0, 0, 0), 2)\n",
    "    return contours, rects, boxes, img"
   ]
  },
  {
   "cell_type": "code",
   "execution_count": 5,
   "id": "c6a1bcd9-d9f4-4d72-9c73-8b5948e4bc3c",
   "metadata": {},
   "outputs": [],
   "source": [
    "def find_contours_not_touching_edge(contours, xmin, xmax, ymin, ymax):\n",
    "    contours_not_touching_edge = []\n",
    "    for contour in contours: \n",
    "        x, y, w, h = cv2.boundingRect(contour)\n",
    "        if (x > xmin) and (x+w < xmax-1) and (y > ymin) and (y+h < ymax-1):\n",
    "            contours_not_touching_edge.append(contour)\n",
    "\n",
    "    print(f'Count of all contours: {len(contours)}')\n",
    "    print(f'Count of contours not touching edge: {len(contours_not_touching_edge)}')\n",
    "    return contours_not_touching_edge"
   ]
  },
  {
   "cell_type": "code",
   "execution_count": 6,
   "id": "c2a1d346-31a5-4446-9749-f93b0bd1bb93",
   "metadata": {},
   "outputs": [],
   "source": [
    "def find_contours_not_near_center(contours):\n",
    "    pcenter = Polygon([(1100, 1100), (1500, 1100), (1500, 1500), (1100, 1500)])    \n",
    "    \n",
    "    contours_not_near_center = []\n",
    "    for contour in contours:\n",
    "        x, y, w, h = cv2.boundingRect(contour)\n",
    "        p = Polygon([(x, y), (x+w, y), (x+w, y+h), (x, y+h)])\n",
    "        contour_near_center = p.intersects(pcenter)\n",
    "        if not contour_near_center:\n",
    "            contours_not_near_center.append(contour)\n",
    "\n",
    "    print(f'Count of all contours: {len(contours)}')\n",
    "    print(f'Count of contours not near center: {len(contours_not_near_center)}')\n",
    "    return contours_not_near_center        "
   ]
  },
  {
   "cell_type": "code",
   "execution_count": 7,
   "id": "0b2354c9-e413-4bdd-aec3-1b8f93c46b07",
   "metadata": {},
   "outputs": [],
   "source": [
    "def find_contours_not_exceeding_max_aspect_ratio(contours):\n",
    "    valid_contours = []\n",
    "    for contour in contours:\n",
    "        x, y, w, h = cv2.boundingRect(contour)\n",
    "        aspect_ratio = max(h/w, w/h)\n",
    "        if aspect_ratio <= MAX_ASPECT_RATIO:\n",
    "            valid_contours.append(contour)\n",
    "    print(f'Count of all contours: {len(contours)}')\n",
    "    print(f'Count of contours not exceeding MAX_ASPECT_RATIO ({MAX_ASPECT_RATIO}): {len(valid_contours)}')\n",
    "    return valid_contours"
   ]
  },
  {
   "cell_type": "code",
   "execution_count": 8,
   "id": "645d0d05-e4fb-4ab0-abd6-6d20ac66e53d",
   "metadata": {
    "papermill": {
     "duration": 1.464996,
     "end_time": "2022-04-12T01:08:32.549567",
     "exception": true,
     "start_time": "2022-04-12T01:08:31.084571",
     "status": "failed"
    },
    "tags": [
     "parameters"
    ]
   },
   "outputs": [
    {
     "name": "stdout",
     "output_type": "stream",
     "text": [
      "sn = '31'\n",
      "Count of all contours: 31\n",
      "Count of contours not touching edge: 29\n",
      "Count of all contours: 29\n",
      "Count of contours not near center: 17\n",
      "Count of all contours: 17\n",
      "Count of contours not exceeding MAX_ASPECT_RATIO (4.0): 17\n",
      "sn = '26'\n",
      "Count of all contours: 25\n",
      "Count of contours not touching edge: 25\n",
      "Count of all contours: 25\n",
      "Count of contours not near center: 16\n",
      "Count of all contours: 16\n",
      "Count of contours not exceeding MAX_ASPECT_RATIO (4.0): 16\n",
      "sn = '28'\n",
      "Count of all contours: 12\n",
      "Count of contours not touching edge: 11\n",
      "Count of all contours: 11\n",
      "Count of contours not near center: 10\n",
      "Count of all contours: 10\n",
      "Count of contours not exceeding MAX_ASPECT_RATIO (4.0): 10\n",
      "sn = '27'\n",
      "Count of all contours: 93\n",
      "Count of contours not touching edge: 93\n",
      "Count of all contours: 93\n",
      "Count of contours not near center: 81\n",
      "Count of all contours: 81\n",
      "Count of contours not exceeding MAX_ASPECT_RATIO (4.0): 81\n",
      "sn = '38'\n",
      "Count of all contours: 36\n",
      "Count of contours not touching edge: 36\n",
      "Count of all contours: 36\n",
      "Count of contours not near center: 25\n",
      "Count of all contours: 25\n",
      "Count of contours not exceeding MAX_ASPECT_RATIO (4.0): 25\n",
      "sn = '35'\n",
      "Count of all contours: 59\n",
      "Count of contours not touching edge: 57\n",
      "Count of all contours: 57\n",
      "Count of contours not near center: 56\n",
      "Count of all contours: 56\n",
      "Count of contours not exceeding MAX_ASPECT_RATIO (4.0): 56\n",
      "sn = '33'\n",
      "Count of all contours: 151\n",
      "Count of contours not touching edge: 146\n",
      "Count of all contours: 146\n",
      "Count of contours not near center: 142\n",
      "Count of all contours: 142\n",
      "Count of contours not exceeding MAX_ASPECT_RATIO (4.0): 142\n",
      "sn = '32'\n",
      "Count of all contours: 61\n",
      "Count of contours not touching edge: 61\n",
      "Count of all contours: 61\n",
      "Count of contours not near center: 58\n",
      "Count of all contours: 58\n",
      "Count of contours not exceeding MAX_ASPECT_RATIO (4.0): 58\n",
      "sn = '30'\n",
      "Count of all contours: 31\n",
      "Count of contours not touching edge: 31\n",
      "Count of all contours: 31\n",
      "Count of contours not near center: 22\n",
      "Count of all contours: 22\n",
      "Count of contours not exceeding MAX_ASPECT_RATIO (4.0): 22\n",
      "sn = '25'\n",
      "Count of all contours: 21\n",
      "Count of contours not touching edge: 21\n",
      "Count of all contours: 21\n",
      "Count of contours not near center: 9\n",
      "Count of all contours: 9\n",
      "Count of contours not exceeding MAX_ASPECT_RATIO (4.0): 9\n",
      "sn = '29'\n",
      "Count of all contours: 9\n",
      "Count of contours not touching edge: 9\n",
      "Count of all contours: 9\n",
      "Count of contours not near center: 8\n",
      "Count of all contours: 8\n",
      "Count of contours not exceeding MAX_ASPECT_RATIO (4.0): 8\n"
     ]
    },
    {
     "ename": "NameError",
     "evalue": "name 'finished' is not defined",
     "output_type": "error",
     "traceback": [
      "\u001b[0;31m---------------------------------------------------------------------------\u001b[0m",
      "\u001b[0;31mNameError\u001b[0m                                 Traceback (most recent call last)",
      "\u001b[0;32m<ipython-input-8-0a59ccfac113>\u001b[0m in \u001b[0;36m<module>\u001b[0;34m\u001b[0m\n\u001b[1;32m     28\u001b[0m \u001b[0;34m\u001b[0m\u001b[0m\n\u001b[1;32m     29\u001b[0m     \u001b[0mrotate_and_crop\u001b[0m\u001b[0;34m(\u001b[0m\u001b[0mimagepath\u001b[0m\u001b[0;34m,\u001b[0m \u001b[0moutputpath\u001b[0m\u001b[0;34m,\u001b[0m \u001b[0mrects\u001b[0m\u001b[0;34m)\u001b[0m\u001b[0;34m\u001b[0m\u001b[0;34m\u001b[0m\u001b[0m\n\u001b[0;32m---> 30\u001b[0;31m \u001b[0mprint\u001b[0m\u001b[0;34m(\u001b[0m\u001b[0mfinished\u001b[0m\u001b[0;34m)\u001b[0m\u001b[0;34m\u001b[0m\u001b[0;34m\u001b[0m\u001b[0m\n\u001b[0m",
      "\u001b[0;31mNameError\u001b[0m: name 'finished' is not defined"
     ]
    }
   ],
   "source": [
    "# MAIN\n",
    "\n",
    "df_imagelist = pd.read_csv(f'{DATADIR}/imagelist.csv')\n",
    "for i, r in df_imagelist.iterrows():\n",
    "    sn = os.path.basename(r.filename).replace('.png', '')\n",
    "    imagepath = f'{DATADIR}/{sn}/cropped.png'\n",
    "    outputpath = f'{DATADIR}/{sn}'\n",
    "    print(f'{sn = }')\n",
    " \n",
    "    # Use the bugcount algorithm to draw contours around insects and other objects\n",
    "\n",
    "    contours, rects, boxes, img = bugcount(imagepath, CANNY)\n",
    "\n",
    "    # Display bugcount result image\n",
    "\n",
    "#     fig, ax = plt.subplots(1, 1, figsize=(20,20))\n",
    "#     fig.tight_layout()\n",
    "#     ax.imshow(cv2.cvtColor(img, cv2.COLOR_BGR2RGB))\n",
    "#     ax.set_title('bugcount result')\n",
    "#     ax.axis('off')\n",
    "\n",
    "    # Save bugcount result map\n",
    "    \n",
    "    cv2.imwrite(f'{outputpath}/map.png', img) \n",
    "\n",
    "    # Extract pixels within each rotated rectangle and rotate so that one axis is horizontal and the other is vertical\n",
    "    # Resulting images will be saved in outputpath directory\n",
    "\n",
    "    rotate_and_crop(imagepath, outputpath, rects)\n",
    "print('finished')"
   ]
  },
  {
   "cell_type": "code",
   "execution_count": null,
   "id": "91166b82-38dc-4e8e-af30-a58071994c6b",
   "metadata": {},
   "outputs": [],
   "source": []
  }
 ],
 "metadata": {
  "kernelspec": {
   "display_name": "Python 3",
   "language": "python",
   "name": "python3"
  },
  "language_info": {
   "codemirror_mode": {
    "name": "ipython",
    "version": 3
   },
   "file_extension": ".py",
   "mimetype": "text/x-python",
   "name": "python",
   "nbconvert_exporter": "python",
   "pygments_lexer": "ipython3",
   "version": "3.8.8"
  },
  "papermill": {
   "default_parameters": {},
   "duration": 2.733089,
   "end_time": "2022-04-12T01:08:32.844803",
   "environment_variables": {},
   "exception": true,
   "input_path": "/home/aubrey/Desktop/sticky_trap_imaging/code/extract_insect_images.ipynb",
   "output_path": "temp.ipynb",
   "parameters": {
    "CANNY": 45,
    "IMAGEPATH": "/home/aubrey/Desktop/tinian_sticky_trap_images/24/cropped.png",
    "OUTPUTPATH": "/home/aubrey/Desktop/tinian_sticky_trap_images/24"
   },
   "start_time": "2022-04-12T01:08:30.111714",
   "version": "2.3.3"
  }
 },
 "nbformat": 4,
 "nbformat_minor": 5
}
