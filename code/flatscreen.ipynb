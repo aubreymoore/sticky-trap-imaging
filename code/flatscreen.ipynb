{
 "cells": [
  {
   "cell_type": "code",
   "execution_count": 2,
   "id": "fc203a79-1ab6-4324-9a7d-a97cd87eadf9",
   "metadata": {},
   "outputs": [],
   "source": [
    "import cv2\n",
    "import numpy as np\n",
    "import math"
   ]
  },
  {
   "cell_type": "code",
   "execution_count": 3,
   "id": "ff6f67c5-de2a-4ca2-914c-c1b98cb4d1f2",
   "metadata": {},
   "outputs": [
    {
     "data": {
      "text/plain": [
       "True"
      ]
     },
     "execution_count": 3,
     "metadata": {},
     "output_type": "execute_result"
    }
   ],
   "source": [
    "# trap width is 3.625 inches\n",
    "# scale 200 px = 2.5 inches\n",
    "\n",
    "pixels_per_inch = 80\n",
    "height = 900\n",
    "width = 900\n",
    "center = (width//2, height//2)\n",
    "\n",
    "bowl_diameter_in = 10.75\n",
    "bowl_diameter_px = math.floor(pixels_per_inch * bowl_diameter_in)\n",
    "bowl_radius = bowl_diameter_px // 2\n",
    "\n",
    "trap_width_in = 3.625 # width of trap in inches\n",
    "trap_width_px = math.floor(pixels_per_inch * trap_width_in)\n",
    "offset = trap_width_px // 2\n",
    "top_left = (center[0]-offset, center[1]-offset)\n",
    "bottom_right = (center[0]+offset, center[1]+offset)\n",
    "\n",
    "img = np.zeros([height, width, 3], dtype = np.uint8)      # create black image\n",
    "cv2.circle(img, center, bowl_radius, (255, 255, 255), -1)   # draw filled white cicle at center\n",
    "cv2.rectangle(img, top_left, bottom_right, (0, 0, 0), -1) # draw filled black square at center\n",
    "cv2.imwrite('circle_rect.png', img)\n",
    "  \n",
    "# displaying the image\n",
    "# cv2.imshow(\"image\", img)\n",
    "# cv2.waitKey()\n",
    "# cv2.destroyAllWindows()"
   ]
  },
  {
   "cell_type": "code",
   "execution_count": null,
   "id": "97bcdb92-3d5d-4544-877b-8a9a4b762461",
   "metadata": {},
   "outputs": [],
   "source": []
  }
 ],
 "metadata": {
  "kernelspec": {
   "display_name": "Python 3",
   "language": "python",
   "name": "python3"
  },
  "language_info": {
   "codemirror_mode": {
    "name": "ipython",
    "version": 3
   },
   "file_extension": ".py",
   "mimetype": "text/x-python",
   "name": "python",
   "nbconvert_exporter": "python",
   "pygments_lexer": "ipython3",
   "version": "3.8.8"
  }
 },
 "nbformat": 4,
 "nbformat_minor": 5
}
