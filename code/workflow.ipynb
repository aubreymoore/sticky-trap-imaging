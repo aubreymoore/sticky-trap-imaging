{
 "cells": [
  {
   "cell_type": "markdown",
   "id": "9b474e2a-8fdd-4125-afd8-3fada1d613cb",
   "metadata": {},
   "source": [
    "# workflow.ipynb\n",
    "\n",
    "Useful code for image classiification may be here:\n",
    "https://github.com/jangedoo/image-similarity-demo/blob/master/notebooks/Image%20search%20with%20pre-trained%20model.ipynb\n",
    "\n",
    "1. get_dataset.ipynb\n",
    "2. crop_square_centered_on_qrcode.ipynb\n",
    "3. extract_insect_images.ipynb\n",
    "4. build_catalog.ipynb\n",
    "5. clustimage.ipynb\n",
    "6. create_cluster_folders.ipynb"
   ]
  },
  {
   "cell_type": "code",
   "execution_count": 1,
   "id": "55ad361d-db76-4b45-9c4f-ab7c1e2de4dd",
   "metadata": {},
   "outputs": [],
   "source": [
    "import os\n",
    "import pandas as pd\n",
    "import time\n",
    "import papermill"
   ]
  },
  {
   "cell_type": "code",
   "execution_count": 2,
   "id": "9a196c68-1a7a-4f2e-9069-50805a65bd7d",
   "metadata": {},
   "outputs": [],
   "source": [
    "# get_dataset.ipynb\n",
    "\n",
    "REPO = 'https://github.com/aubreymoore/sticky_traps_gpepp_nursery'\n",
    "DATADIR = '/home/aubrey/Desktop/gpepp_nursery'"
   ]
  },
  {
   "cell_type": "code",
   "execution_count": 3,
   "id": "54cf01a8-9870-4209-a409-d8207086f8e4",
   "metadata": {},
   "outputs": [],
   "source": [
    "start = time.time()"
   ]
  },
  {
   "cell_type": "code",
   "execution_count": 4,
   "id": "86073fce-19cc-4e14-b2a3-898ae48d12ac",
   "metadata": {},
   "outputs": [],
   "source": [
    "def halt_here():\n",
    "    raise Exception('halt_here executed.')\n",
    "    \n",
    "# stop_here()"
   ]
  },
  {
   "cell_type": "code",
   "execution_count": 5,
   "id": "301c5009-4989-4106-9e45-2b3d44f253f3",
   "metadata": {},
   "outputs": [
    {
     "name": "stdout",
     "output_type": "stream",
     "text": [
      "Downloading data from GitHub repo\n"
     ]
    },
    {
     "data": {
      "application/vnd.jupyter.widget-view+json": {
       "model_id": "4ee5d32619e5455aaaa36f818314d80e",
       "version_major": 2,
       "version_minor": 0
      },
      "text/plain": [
       "Executing:   0%|          | 0/10 [00:00<?, ?cell/s]"
      ]
     },
     "metadata": {},
     "output_type": "display_data"
    }
   ],
   "source": [
    "print('Downloading data from GitHub repo')\n",
    "\n",
    "x = papermill.execute_notebook(\n",
    "    input_path = '/home/aubrey/Desktop/sticky_trap_imaging/code/get_dataset.ipynb',\n",
    "    output_path = 'temp.ipynb',\n",
    "    parameters={'REPO': REPO, 'DATADIR': DATADIR})"
   ]
  },
  {
   "cell_type": "code",
   "execution_count": 6,
   "id": "4bb6e5d4-cfa1-488f-a2d6-d0321798fb41",
   "metadata": {
    "tags": []
   },
   "outputs": [
    {
     "name": "stdout",
     "output_type": "stream",
     "text": [
      "Cropping original images.\n"
     ]
    },
    {
     "data": {
      "application/vnd.jupyter.widget-view+json": {
       "model_id": "2d6be1f47fad44ac88ada3d2a391ea96",
       "version_major": 2,
       "version_minor": 0
      },
      "text/plain": [
       "Executing:   0%|          | 0/8 [00:00<?, ?cell/s]"
      ]
     },
     "metadata": {},
     "output_type": "display_data"
    }
   ],
   "source": [
    "print('Cropping original images.')\n",
    "\n",
    "x = papermill.execute_notebook(\n",
    "    input_path = '/home/aubrey/Desktop/sticky_trap_imaging/code/crop_square_centered_on_qrcode.ipynb',\n",
    "    output_path = 'temp.ipynb',\n",
    "    parameters={'DATADIR': DATADIR, 'CROP_WIDTH': 2500})"
   ]
  },
  {
   "cell_type": "code",
   "execution_count": 7,
   "id": "f78b285c-077f-456c-8a05-d02cff0eabe3",
   "metadata": {},
   "outputs": [
    {
     "name": "stdout",
     "output_type": "stream",
     "text": [
      "Extracting insect images.\n"
     ]
    },
    {
     "data": {
      "application/vnd.jupyter.widget-view+json": {
       "model_id": "901491be741944d1a18005bb0dc63b34",
       "version_major": 2,
       "version_minor": 0
      },
      "text/plain": [
       "Executing:   0%|          | 0/11 [00:00<?, ?cell/s]"
      ]
     },
     "metadata": {},
     "output_type": "display_data"
    }
   ],
   "source": [
    "print('Extracting insect images.')\n",
    "\n",
    "x = papermill.execute_notebook(\n",
    "    input_path = 'extract_insect_images.ipynb',\n",
    "    output_path = 'temp.ipynb',\n",
    "    parameters={'DATADIR': DATADIR, 'CANNY': 45, 'MAX_ASPECT_RATIO': 4.0})"
   ]
  },
  {
   "cell_type": "code",
   "execution_count": 8,
   "id": "4d9885d7-bbe6-405d-b274-9c403186ea11",
   "metadata": {},
   "outputs": [
    {
     "name": "stdout",
     "output_type": "stream",
     "text": [
      "Building catalog.\n"
     ]
    },
    {
     "data": {
      "application/vnd.jupyter.widget-view+json": {
       "model_id": "7a38933342854b2a9a3c99b33e5e4b34",
       "version_major": 2,
       "version_minor": 0
      },
      "text/plain": [
       "Executing:   0%|          | 0/13 [00:00<?, ?cell/s]"
      ]
     },
     "metadata": {},
     "output_type": "display_data"
    }
   ],
   "source": [
    "print('Building catalog.')\n",
    "\n",
    "x = papermill.execute_notebook(\n",
    "    input_path = '/home/aubrey/Desktop/sticky_trap_imaging/code/build_catalog.ipynb',\n",
    "    output_path='temp.ipynb',\n",
    "    parameters={'DATADIR': DATADIR, 'PIXELS_PER_MM': 36.375})"
   ]
  },
  {
   "cell_type": "code",
   "execution_count": 9,
   "id": "83d699e2-34c1-48b4-9344-5273a66464c0",
   "metadata": {
    "tags": []
   },
   "outputs": [
    {
     "name": "stdout",
     "output_type": "stream",
     "text": [
      "Running clustimage.ipynb.\n"
     ]
    },
    {
     "data": {
      "application/vnd.jupyter.widget-view+json": {
       "model_id": "e0bb53bceb9741dcbd8d2ecee5b849b5",
       "version_major": 2,
       "version_minor": 0
      },
      "text/plain": [
       "Executing:   0%|          | 0/8 [00:00<?, ?cell/s]"
      ]
     },
     "metadata": {},
     "output_type": "display_data"
    }
   ],
   "source": [
    "print('Running clustimage.ipynb.')\n",
    "\n",
    "x = papermill.execute_notebook(\n",
    "    input_path = '/home/aubrey/Desktop/sticky_trap_imaging/code/clustimage.ipynb',\n",
    "    output_path = 'temp.ipynb',\n",
    "    parameters={'DATADIR': DATADIR})"
   ]
  },
  {
   "cell_type": "code",
   "execution_count": 10,
   "id": "0e431549-31d4-4110-a786-85ab2cc02b9d",
   "metadata": {},
   "outputs": [
    {
     "name": "stdout",
     "output_type": "stream",
     "text": [
      "Running create_cluster_folders.ipynb.\n"
     ]
    },
    {
     "data": {
      "application/vnd.jupyter.widget-view+json": {
       "model_id": "39c7b664a6dc430587bad2c752e7c0ba",
       "version_major": 2,
       "version_minor": 0
      },
      "text/plain": [
       "Executing:   0%|          | 0/10 [00:00<?, ?cell/s]"
      ]
     },
     "metadata": {},
     "output_type": "display_data"
    }
   ],
   "source": [
    "print('Running create_cluster_folders.ipynb.')\n",
    "x = papermill.execute_notebook(\n",
    "    input_path = '/home/aubrey/Desktop/sticky_trap_imaging/code/create_cluster_folders.ipynb',\n",
    "    output_path = 'temp.ipynb',\n",
    "    parameters={'DATADIR': DATADIR})"
   ]
  },
  {
   "cell_type": "code",
   "execution_count": 11,
   "id": "e10fba82-3559-4530-b49e-0fde6f6cc579",
   "metadata": {},
   "outputs": [
    {
     "name": "stdout",
     "output_type": "stream",
     "text": [
      "FINISHED: Total run time was 42.3 seconds = 0.705 minutes = 0.0118 hours\n"
     ]
    }
   ],
   "source": [
    "end = time.time()\n",
    "seconds = end - start\n",
    "minutes = seconds / 60\n",
    "hours = minutes / 60\n",
    "print(f'FINISHED: Total run time was {seconds:.3g} seconds = {minutes:.3g} minutes = {hours:.3g} hours')"
   ]
  },
  {
   "cell_type": "code",
   "execution_count": null,
   "id": "db1a26e3-00c2-449c-877e-d104e2a637e8",
   "metadata": {},
   "outputs": [],
   "source": []
  }
 ],
 "metadata": {
  "kernelspec": {
   "display_name": "Python 3",
   "language": "python",
   "name": "python3"
  },
  "language_info": {
   "codemirror_mode": {
    "name": "ipython",
    "version": 3
   },
   "file_extension": ".py",
   "mimetype": "text/x-python",
   "name": "python",
   "nbconvert_exporter": "python",
   "pygments_lexer": "ipython3",
   "version": "3.8.8"
  }
 },
 "nbformat": 4,
 "nbformat_minor": 5
}
