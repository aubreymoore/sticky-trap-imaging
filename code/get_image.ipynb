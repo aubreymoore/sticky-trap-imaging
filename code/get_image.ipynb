{
 "cells": [
  {
   "cell_type": "markdown",
   "id": "4c818415-5c9c-42dd-b2ff-aabb5ad3dbaa",
   "metadata": {},
   "source": [
    "# get_image.ipynb\n",
    "\n",
    "This Jupyter notebook connects to a Rasbberry Pi 3 Model B+ which is fitted with a 16MP autofocus camera. \n",
    "\n",
    "The following steps are implemented:\n",
    "\n",
    "* An SSH connection is established between this computer and the RPi.\n",
    "* A command is sent to the RPi which causes it to take a photo: **libcamera-still -o test.png --autofocus**\n",
    "* FTP is used to copy the image file from the RPi to **OUTPUT_DIR** on this computer.\n",
    "* Optionally the image file is renamed using the TRAP_ID provided by a QRcode attchd tothe trap.\n",
    "\n",
    "## Using papermill\n",
    "\n",
    "For an image containing a QRcode:\n",
    "```\n",
    "papermill get_image.ipynb temp.ipynb -p OUTPUT_DIR ./tinian_cycads \n",
    "```\n",
    "\n",
    "For an image without a QRcode:\n",
    "```\n",
    "papermill get_image.ipynb temp.ipynb -p OUTPUT_DIR ./tinian_cycads -p USE_QRCODE False -p TRAP_ID 999\n",
    "```\n",
    "\n",
    "#### Reference\n",
    "https://medium.com/@keagileageek/paramiko-how-to-ssh-and-file-transfers-with-python-75766179de73"
   ]
  },
  {
   "cell_type": "code",
   "execution_count": 29,
   "id": "860447ef",
   "metadata": {},
   "outputs": [],
   "source": [
    "import paramiko\n",
    "import cv2\n",
    "import os\n",
    "from pyzbar.pyzbar import decode"
   ]
  },
  {
   "cell_type": "code",
   "execution_count": 30,
   "id": "cdc56947",
   "metadata": {
    "tags": [
     "parameters"
    ]
   },
   "outputs": [],
   "source": [
    "RPI_IP = \"192.168.1.44\"\n",
    "RPI_USERNAME = \"pi\"\n",
    "RPI_PASSWORD = \"canada12\"\n",
    "TRAP_ID = 999\n",
    "USE_QRCODE = True\n",
    "OUTPUT_DIR = './gpepp_nursery'"
   ]
  },
  {
   "cell_type": "code",
   "execution_count": 31,
   "id": "a56c131a",
   "metadata": {},
   "outputs": [],
   "source": [
    "# Ensure that OUTPUT_DIR exists\n",
    "if not os.path.exists(OUTPUT_DIR): \n",
    "    os.makedirs(OUTPUT_DIR)\n",
    "    print(f'Created new directory: {OUTPUT_DIR}')"
   ]
  },
  {
   "cell_type": "code",
   "execution_count": 32,
   "id": "83de6e68-f49b-4a87-9788-6ee376c563a7",
   "metadata": {},
   "outputs": [
    {
     "name": "stdout",
     "output_type": "stream",
     "text": [
      "Taking photo.\n",
      "['Preview window unavailable\\n', 'Still capture image received\\n']\n",
      "Copying image from RPi to {output_path}.\n",
      "Renaming image from ./gpepp_nursery/999.png to ./gpepp_nursery/32.png.\n",
      "Closing SSH connection to RPi.\n",
      "Finished\n"
     ]
    }
   ],
   "source": [
    "# Open SSH connection to RPi\n",
    "ssh = paramiko.SSHClient()\n",
    "ssh.set_missing_host_key_policy(paramiko.AutoAddPolicy())\n",
    "ssh.connect(RPI_IP, username=RPI_USERNAME, password=RPI_PASSWORD)\n",
    "\n",
    "# Take a photo and save it in test.jpg on the RPi\n",
    "print('Taking photo.')\n",
    "command = 'libcamera-still -o test.png --autofocus'\n",
    "ssh_stdin, ssh_stdout, ssh_stderr = ssh.exec_command(command)\n",
    "output = ssh_stdout.readlines()\n",
    "print(output)\n",
    "\n",
    "# Copy photo from RPi to OUTPUTDIR\n",
    "output_path = f'{OUTPUT_DIR}/{TRAP_ID}.png'\n",
    "print('Copying image from RPi to {output_path}.')\n",
    "ftp_client=ssh.open_sftp()\n",
    "ftp_client.get('/home/pi/test.png', output_path)\n",
    "ftp_client.close()\n",
    "\n",
    "# Optionally rename the photo using the QRcode serial number \n",
    "if USE_QRCODE:\n",
    "    img=cv2.imread(output_path)\n",
    "    # det=cv2.QRCodeDetector()\n",
    "    code = decode(img)\n",
    "    val = int(code[0].data)            \n",
    "    # val, pts, st_code = det.detectAndDecode(img)\n",
    "    new_path = f'{OUTPUT_DIR}/{val}.png'\n",
    "    print(f'Renaming image from {output_path} to {new_path}.')\n",
    "    os.rename(output_path, new_path)\n",
    "\n",
    "print('Closing SSH connection to RPi.')\n",
    "ssh.close()\n",
    "\n",
    "print('Finished')"
   ]
  },
  {
   "cell_type": "code",
   "execution_count": null,
   "id": "0452f72c-b819-4dfb-9a1d-7c0cc9bb3d62",
   "metadata": {},
   "outputs": [],
   "source": []
  }
 ],
 "metadata": {
  "kernelspec": {
   "display_name": "Python 3",
   "language": "python",
   "name": "python3"
  },
  "language_info": {
   "codemirror_mode": {
    "name": "ipython",
    "version": 3
   },
   "file_extension": ".py",
   "mimetype": "text/x-python",
   "name": "python",
   "nbconvert_exporter": "python",
   "pygments_lexer": "ipython3",
   "version": "3.8.8"
  }
 },
 "nbformat": 4,
 "nbformat_minor": 5
}
