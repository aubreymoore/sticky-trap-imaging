{
 "cells": [
  {
   "cell_type": "code",
   "execution_count": 1,
   "id": "640afa0f-9fda-4768-a211-3ddcdcd99f87",
   "metadata": {},
   "outputs": [],
   "source": [
    "from pyzbar.pyzbar import decode\n",
    "\n",
    "import matplotlib.pyplot as plt\n",
    "import cv2\n",
    "import numpy as np\n",
    "from IPython.display import display, Image\n",
    "import ipywidgets as widgets\n",
    "import threading"
   ]
  },
  {
   "cell_type": "code",
   "execution_count": 2,
   "id": "9c609f75-0020-4466-9208-c1e291992c36",
   "metadata": {},
   "outputs": [],
   "source": [
    "def webcam1():\n",
    "    cap = cv2.VideoCapture(0)\n",
    "    cap.set(3,640) # adjust width\n",
    "    cap.set(4,480) # adjust height\n",
    "    while True:\n",
    "        success, img = cap.read()\n",
    "                \n",
    "        for barcode in decode(img):\n",
    "            rect = barcode.rect\n",
    "            cv2.rectangle(img, (rect.left, rect.top), (rect.left + rect.width, rect.top + rect.height), (0,0,0), -1)\n",
    "#             cv2.polygon(barcode.polygon, outline='#e945ff')\n",
    "                \n",
    "        cv2.imshow(\"Webcam\", img) # This will open an independent window\n",
    "        if cv2.waitKey(1) & 0xFF==ord('q'): # quit when 'q' is pressed\n",
    "            cap.release()\n",
    "            break        \n",
    "    cv2.destroyAllWindows()"
   ]
  },
  {
   "cell_type": "code",
   "execution_count": 3,
   "id": "ff688991-264a-43e2-a970-ee9de48320b3",
   "metadata": {},
   "outputs": [],
   "source": [
    "def webcam2():\n",
    "    # Stop button\n",
    "    # ================\n",
    "    stopButton = widgets.ToggleButton(\n",
    "        value=False,\n",
    "        description='Stop',\n",
    "        disabled=False,\n",
    "        button_style='danger', # 'success', 'info', 'warning', 'danger' or ''\n",
    "        tooltip='Description',\n",
    "        icon='square' # (FontAwesome names without the `fa-` prefix)\n",
    "    )\n",
    "\n",
    "\n",
    "    # Display function\n",
    "    # ================\n",
    "    def view(button):\n",
    "        cap = cv2.VideoCapture(0)\n",
    "        display_handle=display(None, display_id=True)\n",
    "        i = 0\n",
    "        while True:\n",
    "            _, frame = cap.read()\n",
    "    #         frame = cv2.flip(frame, 1) # if your camera reverses your image\n",
    "            _, frame = cv2.imencode('.jpeg', frame)\n",
    "            display_handle.update(Image(data=frame.tobytes()))\n",
    "            if stopButton.value==True:\n",
    "                cap.release()\n",
    "                display_handle.update(None)\n",
    "\n",
    "\n",
    "    # Run\n",
    "    # ================\n",
    "    display(stopButton)\n",
    "    thread = threading.Thread(target=view, args=(stopButton,))\n",
    "    thread.start()"
   ]
  },
  {
   "cell_type": "code",
   "execution_count": 4,
   "id": "58414560-06bc-4295-bf9e-d5bb63cb6c27",
   "metadata": {},
   "outputs": [],
   "source": [
    "# for barcode in decode(image):\n",
    "#     rect = barcode.rect\n",
    "#     draw.rectangle(\n",
    "#         (\n",
    "#             (rect.left, rect.top),\n",
    "#             (rect.left + rect.width, rect.top + rect.height)\n",
    "#         ),\n",
    "#         outline='#0080ff'\n",
    "#     )\n",
    "\n",
    "#     draw.polygon(barcode.polygon, outline='#e945ff')\n"
   ]
  },
  {
   "cell_type": "code",
   "execution_count": 5,
   "id": "45b86417-538f-4d2e-b61a-fdac61e20412",
   "metadata": {},
   "outputs": [],
   "source": [
    "# cap = cv2.VideoCapture(0) # use 0 if you only have front facing camera\n",
    "# ret, img = cap.read() #read one frame\n",
    "# cap.release() # release the VideoCapture object.\n",
    "\n",
    "# for barcode in decode(img):\n",
    "#     rect = barcode.rect\n",
    "#     cv2.rectangle(img, (rect.left, rect.top), (rect.left + rect.width, rect.top + rect.height), (0,0,0), -1)\n",
    "\n",
    "# cv2.imshow('image', img)\n",
    "# if cv2.waitKey(0) & 0xff == ord('q'): # press q to exit\n",
    "#     cv2.destroyAllWindows()"
   ]
  },
  {
   "cell_type": "code",
   "execution_count": null,
   "id": "324777b6-1cb2-4b9f-89fb-00d9136aa6be",
   "metadata": {},
   "outputs": [],
   "source": [
    "webcam1()"
   ]
  },
  {
   "cell_type": "code",
   "execution_count": null,
   "id": "bd16c01c-182e-4477-8ce6-92088892c20e",
   "metadata": {},
   "outputs": [],
   "source": [
    "# frame_rate = 10\n",
    "# prev = 0\n",
    "\n",
    "# while capturing:\n",
    "\n",
    "#     time_elapsed = time.time() - prev\n",
    "#     res, image = cap.read()\n",
    "\n",
    "#     if time_elapsed > 1./frame_rate:\n",
    "#         prev = time.time()\n",
    "\n",
    "#         # Do something with your image here.\n",
    "#         process_image()"
   ]
  }
 ],
 "metadata": {
  "kernelspec": {
   "display_name": "Python 3",
   "language": "python",
   "name": "python3"
  },
  "language_info": {
   "codemirror_mode": {
    "name": "ipython",
    "version": 3
   },
   "file_extension": ".py",
   "mimetype": "text/x-python",
   "name": "python",
   "nbconvert_exporter": "python",
   "pygments_lexer": "ipython3",
   "version": "3.8.8"
  }
 },
 "nbformat": 4,
 "nbformat_minor": 5
}
