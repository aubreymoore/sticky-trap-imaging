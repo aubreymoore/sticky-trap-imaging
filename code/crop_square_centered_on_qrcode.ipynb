{
 "cells": [
  {
   "cell_type": "markdown",
   "id": "f7969215",
   "metadata": {},
   "source": [
    "# crop_square_centered_on_qrcode\n",
    "\n",
    "This notebook performs the following steps:\n",
    "* detects QRcode and calculates its centroid\n",
    "* extracts a square from the image centered on the QRcode"
   ]
  },
  {
   "cell_type": "code",
   "execution_count": 31,
   "id": "9a890d06",
   "metadata": {},
   "outputs": [],
   "source": [
    "from pyzbar.pyzbar import decode\n",
    "import cv2\n",
    "import glob\n",
    "import os"
   ]
  },
  {
   "cell_type": "code",
   "execution_count": 32,
   "id": "cc478768-0793-4706-997b-9edff4b8fa64",
   "metadata": {
    "tags": [
     "parameters"
    ]
   },
   "outputs": [],
   "source": [
    "# This cell is tagged as \"parameters\" to enable use of papermill\n",
    "\n",
    "INPUT_DIR = './tinian_cycads'\n",
    "OUTPUT_DIR = './tinian_cycads_cropped'\n",
    "CROP_WIDTH = 2500"
   ]
  },
  {
   "cell_type": "code",
   "execution_count": 33,
   "id": "7e8ed555",
   "metadata": {},
   "outputs": [],
   "source": [
    "def crop_square_centered_on_qrcode(img, crop_width):\n",
    "    code = decode(img)\n",
    "    rect = code[0].rect\n",
    "    x_center = rect.left + (rect.width // 2)\n",
    "    y_center = rect.top + (rect.height // 2)\n",
    "\n",
    "    half_width = crop_width // 2\n",
    "    start_row = y_center - half_width\n",
    "    end_row = y_center + half_width\n",
    "    start_col = x_center - half_width\n",
    "    end_col = x_center + half_width\n",
    "\n",
    "    # If crop_width is even, we add an extra row and column\n",
    "    if (crop_width % 2):\n",
    "        end_row += 1\n",
    "        end_col += 1 \n",
    "        \n",
    "    return img[start_row:end_row, start_col:end_col]"
   ]
  },
  {
   "cell_type": "code",
   "execution_count": 34,
   "id": "5855f019",
   "metadata": {},
   "outputs": [
    {
     "name": "stdout",
     "output_type": "stream",
     "text": [
      "Created new directory: ./tinian_cycads_cropped\n",
      "Processing ./tinian_cycads/22.png.\n",
      "Processing ./tinian_cycads/24.png.\n",
      "Processing ./tinian_cycads/16.png.\n",
      "Processing ./tinian_cycads/14.png.\n",
      "Processing ./tinian_cycads/11.png.\n",
      "Processing ./tinian_cycads/15.png.\n",
      "Processing ./tinian_cycads/12.png.\n",
      "Processing ./tinian_cycads/7.png.\n",
      "Processing ./tinian_cycads/8.png.\n",
      "Processing ./tinian_cycads/17.png.\n",
      "Processing ./tinian_cycads/13.png.\n",
      "Processing ./tinian_cycads/20.png.\n",
      "Processing ./tinian_cycads/9.png.\n",
      "Processing ./tinian_cycads/3.png.\n",
      "Processing ./tinian_cycads/40.png.\n",
      "Processing ./tinian_cycads/19.png.\n",
      "Processing ./tinian_cycads/4.png.\n",
      "Processing ./tinian_cycads/2.png.\n",
      "Processing ./tinian_cycads/6.png.\n",
      "Processing ./tinian_cycads/5.png.\n",
      "Processing ./tinian_cycads/1.png.\n",
      "Processing ./tinian_cycads/18.png.\n",
      "Processing ./tinian_cycads/23.png.\n",
      "Processing ./tinian_cycads/10.png.\n",
      "Processing ./tinian_cycads/21.png.\n",
      "Finished.\n"
     ]
    }
   ],
   "source": [
    "# MAIN\n",
    "\n",
    "# Ensure that OUTPUT_DIR exists\n",
    "if not os.path.exists(OUTPUT_DIR): \n",
    "    os.makedirs(OUTPUT_DIR)\n",
    "    print(f'Created new directory: {OUTPUT_DIR}')\n",
    "\n",
    "for f in glob.glob('./tinian_cycads/[0-9]*.png'):\n",
    "    print(f'Processing {f}.')\n",
    "    img = cv2.imread(f)\n",
    "    cropped_img = crop_square_centered_on_qrcode(img, CROP_WIDTH) \n",
    "    cv2.imwrite(f'{OUTPUT_DIR}/{os.path.basename(f)}', cropped_img)\n",
    "print('Finished.')    "
   ]
  },
  {
   "cell_type": "code",
   "execution_count": null,
   "id": "05bf6a3f-34b8-4138-af33-53efe854aedf",
   "metadata": {},
   "outputs": [],
   "source": []
  }
 ],
 "metadata": {
  "kernelspec": {
   "display_name": "Python 3",
   "language": "python",
   "name": "python3"
  },
  "language_info": {
   "codemirror_mode": {
    "name": "ipython",
    "version": 3
   },
   "file_extension": ".py",
   "mimetype": "text/x-python",
   "name": "python",
   "nbconvert_exporter": "python",
   "pygments_lexer": "ipython3",
   "version": "3.8.10"
  }
 },
 "nbformat": 4,
 "nbformat_minor": 5
}
