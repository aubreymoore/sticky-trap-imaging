{
 "cells": [
  {
   "cell_type": "markdown",
   "id": "f7969215",
   "metadata": {},
   "source": [
    "# crop_square_centered_on_qrcode\n",
    "\n",
    "This notebook performs the following steps:\n",
    "* detects QRcode and calculates its centroid\n",
    "* extracts a square from the image centered on the QRcode"
   ]
  },
  {
   "cell_type": "code",
   "execution_count": 6,
   "id": "9a890d06",
   "metadata": {},
   "outputs": [],
   "source": [
    "from pyzbar.pyzbar import decode\n",
    "import cv2\n",
    "import glob\n",
    "import os\n",
    "import papermill\n",
    "import pandas as pd"
   ]
  },
  {
   "cell_type": "code",
   "execution_count": 7,
   "id": "cc478768-0793-4706-997b-9edff4b8fa64",
   "metadata": {
    "tags": [
     "parameters"
    ]
   },
   "outputs": [],
   "source": [
    "# This cell is tagged as \"parameters\" to enable use of papermill\n",
    "\n",
    "DATADIR = '/home/aubrey/Desktop/gpepp_nursery'\n",
    "CROP_WIDTH = 2500"
   ]
  },
  {
   "cell_type": "code",
   "execution_count": 8,
   "id": "55949050-7161-42f3-aa06-511e6c69a053",
   "metadata": {},
   "outputs": [],
   "source": [
    "# papermill.inspect_notebook('crop_square_centered_on_qrcode.ipynb')"
   ]
  },
  {
   "cell_type": "code",
   "execution_count": 9,
   "id": "7e8ed555",
   "metadata": {},
   "outputs": [],
   "source": [
    "def crop_square_centered_on_qrcode(img, crop_width):\n",
    "    code = decode(img)\n",
    "    rect = code[0].rect\n",
    "    x_center = rect.left + (rect.width // 2)\n",
    "    y_center = rect.top + (rect.height // 2)\n",
    "\n",
    "    half_width = crop_width // 2\n",
    "    start_row = y_center - half_width\n",
    "    end_row = y_center + half_width\n",
    "    start_col = x_center - half_width\n",
    "    end_col = x_center + half_width\n",
    "\n",
    "    # If crop_width is even, we add an extra row and column\n",
    "    if (crop_width % 2):\n",
    "        end_row += 1\n",
    "        end_col += 1 \n",
    "        \n",
    "    return img[start_row:end_row, start_col:end_col]"
   ]
  },
  {
   "cell_type": "code",
   "execution_count": 10,
   "id": "5855f019",
   "metadata": {},
   "outputs": [
    {
     "name": "stdout",
     "output_type": "stream",
     "text": [
      "Processing/home/aubrey/Desktop/gpepp_nursery/31/original.png/31\n",
      "Processing/home/aubrey/Desktop/gpepp_nursery/26/original.png/26\n",
      "Processing/home/aubrey/Desktop/gpepp_nursery/28/original.png/28\n",
      "Processing/home/aubrey/Desktop/gpepp_nursery/27/original.png/27\n",
      "Processing/home/aubrey/Desktop/gpepp_nursery/38/original.png/38\n",
      "Processing/home/aubrey/Desktop/gpepp_nursery/35/original.png/35\n",
      "Processing/home/aubrey/Desktop/gpepp_nursery/33/original.png/33\n",
      "Processing/home/aubrey/Desktop/gpepp_nursery/32/original.png/32\n",
      "Processing/home/aubrey/Desktop/gpepp_nursery/30/original.png/30\n",
      "Processing/home/aubrey/Desktop/gpepp_nursery/25/original.png/25\n",
      "Processing/home/aubrey/Desktop/gpepp_nursery/29/original.png/29\n",
      "Finished.\n"
     ]
    }
   ],
   "source": [
    "# MAIN\n",
    "\n",
    "df_imagelist = pd.read_csv(f'{DATADIR}/imagelist.csv')\n",
    "for i, r in df_imagelist.iterrows():\n",
    "    sn = os.path.basename(r.filename).replace('.png', '')\n",
    "    original_image_path = f'{DATADIR}/{sn}/original.png'\n",
    "    cropped_image_path =  f'{DATADIR}/{sn}/cropped.png'\n",
    "    print(f'Processing{original_image_path}/{sn}')\n",
    "    img = cv2.imread(original_image_path)\n",
    "    cropped_img = crop_square_centered_on_qrcode(img, CROP_WIDTH) \n",
    "    cv2.imwrite(cropped_image_path, cropped_img)\n",
    "print('Finished.')    "
   ]
  },
  {
   "cell_type": "code",
   "execution_count": null,
   "id": "f3f86d40-d325-4c78-b6f7-0f580d55935a",
   "metadata": {},
   "outputs": [],
   "source": []
  }
 ],
 "metadata": {
  "kernelspec": {
   "display_name": "Python 3",
   "language": "python",
   "name": "python3"
  },
  "language_info": {
   "codemirror_mode": {
    "name": "ipython",
    "version": 3
   },
   "file_extension": ".py",
   "mimetype": "text/x-python",
   "name": "python",
   "nbconvert_exporter": "python",
   "pygments_lexer": "ipython3",
   "version": "3.8.8"
  }
 },
 "nbformat": 4,
 "nbformat_minor": 5
}
