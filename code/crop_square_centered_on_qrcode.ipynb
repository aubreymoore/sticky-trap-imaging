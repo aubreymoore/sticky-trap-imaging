{
 "cells": [
  {
   "cell_type": "markdown",
   "id": "f7969215",
   "metadata": {},
   "source": [
    "# crop_square_centered_on_qrcode\n",
    "\n",
    "This notebook performs the following steps:\n",
    "* detects QRcode and calculates its centroid\n",
    "* extracts a square from the image centered on the QRcode"
   ]
  },
  {
   "cell_type": "code",
   "execution_count": 7,
   "id": "9a890d06",
   "metadata": {},
   "outputs": [],
   "source": [
    "from pyzbar.pyzbar import decode\n",
    "import cv2\n",
    "import glob\n",
    "import os\n",
    "import papermill\n",
    "import pandas as pd\n",
    "import numpy as np\n",
    "import math"
   ]
  },
  {
   "cell_type": "code",
   "execution_count": 8,
   "id": "cc478768-0793-4706-997b-9edff4b8fa64",
   "metadata": {
    "tags": [
     "parameters"
    ]
   },
   "outputs": [],
   "source": [
    "# This cell is tagged as \"parameters\" to enable use of papermill\n",
    "\n",
    "DATADIR = '/home/aubrey/Desktop/gpepp_nursery'\n",
    "CROP_WIDTH = 2500"
   ]
  },
  {
   "cell_type": "code",
   "execution_count": 9,
   "id": "55949050-7161-42f3-aa06-511e6c69a053",
   "metadata": {},
   "outputs": [],
   "source": [
    "# papermill.inspect_notebook('crop_square_centered_on_qrcode.ipynb')"
   ]
  },
  {
   "cell_type": "code",
   "execution_count": 10,
   "id": "7e8ed555",
   "metadata": {},
   "outputs": [],
   "source": [
    "def crop_square_centered_on_qrcode(img, crop_width):\n",
    "    barcode = decode(img)[0]\n",
    "    rect = barcode.rect\n",
    "    x_center = rect.left + (rect.width // 2)\n",
    "    y_center = rect.top + (rect.height // 2)\n",
    "\n",
    "    half_width = crop_width // 2\n",
    "    start_row = y_center - half_width\n",
    "    end_row = y_center + half_width\n",
    "    start_col = x_center - half_width\n",
    "    end_col = x_center + half_width\n",
    "    # If crop_width is even, we add an extra row and column\n",
    "    if (crop_width % 2):\n",
    "        end_row += 1\n",
    "        end_col += 1         \n",
    "    return img[start_row:end_row, start_col:end_col]"
   ]
  },
  {
   "cell_type": "code",
   "execution_count": 11,
   "id": "ef0059e2-1688-48d0-9347-45d49ddc501b",
   "metadata": {},
   "outputs": [],
   "source": [
    "def barcode_size(barcode):\n",
    "    \"\"\"\n",
    "    Returns the average length of the 4 sides of the barcode polygon\n",
    "    Requires:\n",
    "    import numpy as np\n",
    "    import math\n",
    "    \"\"\"\n",
    "    points = barcode.polygon\n",
    "    # Repeat the first point at the end of the list to complete the polygon\n",
    "    points.append(points[0])\n",
    "    lengths = []\n",
    "    for i in range(4):\n",
    "        lengths.append(math.dist(points[i], points[i+1]))    \n",
    "    return np.mean(lengths)\n",
    "    \n",
    "# img = cv2.imread('/home/aubrey/Desktop/gpepp_nursery/31/cropped.png')\n",
    "# barcode = decode(img)[0]\n",
    "# barcode_size(barcode)"
   ]
  },
  {
   "cell_type": "code",
   "execution_count": 12,
   "id": "5855f019",
   "metadata": {},
   "outputs": [
    {
     "name": "stdout",
     "output_type": "stream",
     "text": [
      "Processing/home/aubrey/Desktop/gpepp_nursery/31/original.png\n",
      "Processing/home/aubrey/Desktop/gpepp_nursery/26/original.png\n",
      "Processing/home/aubrey/Desktop/gpepp_nursery/28/original.png\n",
      "Processing/home/aubrey/Desktop/gpepp_nursery/27/original.png\n",
      "Processing/home/aubrey/Desktop/gpepp_nursery/38/original.png\n",
      "Processing/home/aubrey/Desktop/gpepp_nursery/35/original.png\n",
      "Processing/home/aubrey/Desktop/gpepp_nursery/33/original.png\n",
      "Processing/home/aubrey/Desktop/gpepp_nursery/32/original.png\n",
      "Processing/home/aubrey/Desktop/gpepp_nursery/30/original.png\n",
      "Processing/home/aubrey/Desktop/gpepp_nursery/25/original.png\n",
      "Processing/home/aubrey/Desktop/gpepp_nursery/29/original.png\n",
      "widths of barcodes\n",
      "/home/aubrey/Desktop/gpepp_nursery/28/cropped.png 216.4\n",
      "/home/aubrey/Desktop/gpepp_nursery/30/cropped.png 216.2\n",
      "/home/aubrey/Desktop/gpepp_nursery/29/cropped.png 216.5\n",
      "/home/aubrey/Desktop/gpepp_nursery/32/cropped.png 216.3\n",
      "/home/aubrey/Desktop/gpepp_nursery/38/cropped.png 217.4\n",
      "/home/aubrey/Desktop/gpepp_nursery/35/cropped.png 217.5\n",
      "/home/aubrey/Desktop/gpepp_nursery/33/cropped.png 216.8\n",
      "/home/aubrey/Desktop/gpepp_nursery/26/cropped.png 220.6\n",
      "/home/aubrey/Desktop/gpepp_nursery/31/cropped.png 218.0\n",
      "/home/aubrey/Desktop/gpepp_nursery/25/cropped.png 217.8\n",
      "/home/aubrey/Desktop/gpepp_nursery/27/cropped.png 215.0\n",
      "Finished.\n"
     ]
    }
   ],
   "source": [
    "# MAIN\n",
    "\n",
    "df_imagelist = pd.read_csv(f'{DATADIR}/imagelist.csv')\n",
    "\n",
    "for i, r in df_imagelist.iterrows():\n",
    "    sn = os.path.basename(r.filename).replace('.png', '')\n",
    "    original_image_path = f'{DATADIR}/{sn}/original.png'\n",
    "    cropped_image_path =  f'{DATADIR}/{sn}/cropped.png'\n",
    "    print(f'Processing{original_image_path}')\n",
    "    img = cv2.imread(original_image_path)\n",
    "    cropped_img = crop_square_centered_on_qrcode(img, CROP_WIDTH) \n",
    "    cv2.imwrite(cropped_image_path, cropped_img)\n",
    "\n",
    "print('widths of barcodes')\n",
    "for f in glob.glob('/home/aubrey/Desktop/gpepp_nursery/*/cropped.png'):\n",
    "    img = cv2.imread(f)\n",
    "    barcode = decode(img)[0]\n",
    "    bc_size = barcode_size(barcode) \n",
    "    print(f'{f} {bc_size:.1f}')\n",
    "    \n",
    "print('Finished.')    "
   ]
  }
 ],
 "metadata": {
  "kernelspec": {
   "display_name": "Python 3",
   "language": "python",
   "name": "python3"
  },
  "language_info": {
   "codemirror_mode": {
    "name": "ipython",
    "version": 3
   },
   "file_extension": ".py",
   "mimetype": "text/x-python",
   "name": "python",
   "nbconvert_exporter": "python",
   "pygments_lexer": "ipython3",
   "version": "3.8.8"
  }
 },
 "nbformat": 4,
 "nbformat_minor": 5
}
