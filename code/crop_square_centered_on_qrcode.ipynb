{
 "cells": [
  {
   "cell_type": "markdown",
   "id": "f7969215",
   "metadata": {},
   "source": [
    "# crop_square_centered_on_qrcode\n",
    "\n",
    "This notebook performs the following steps:\n",
    "* detects QRcode and calculates its centroid\n",
    "* extracts a square from the image centered on the QRcode"
   ]
  },
  {
   "cell_type": "code",
   "execution_count": 4,
   "id": "9a890d06",
   "metadata": {},
   "outputs": [],
   "source": [
    "from pyzbar.pyzbar import decode\n",
    "import cv2\n",
    "import glob\n",
    "import os\n",
    "import papermill"
   ]
  },
  {
   "cell_type": "code",
   "execution_count": 2,
   "id": "cc478768-0793-4706-997b-9edff4b8fa64",
   "metadata": {
    "tags": [
     "parameters"
    ]
   },
   "outputs": [],
   "source": [
    "# This cell is tagged as \"parameters\" to enable use of papermill\n",
    "\n",
    "ORIGINAL_IMAGE_PATH = '/home/aubrey/Desktop/tinian_sticky_trap_images/1/original.png'\n",
    "CROPPED_IMAGE_PATH =  '/home/aubrey/Desktop/tinian_sticky_trap_images/1/cropped.png'\n",
    "CROP_WIDTH = 2500"
   ]
  },
  {
   "cell_type": "code",
   "execution_count": 7,
   "id": "55949050-7161-42f3-aa06-511e6c69a053",
   "metadata": {},
   "outputs": [
    {
     "data": {
      "text/plain": [
       "{'ORIGINAL_IMAGE_PATH': {'name': 'ORIGINAL_IMAGE_PATH',\n",
       "  'inferred_type_name': 'None',\n",
       "  'default': \"'/home/aubrey/Desktop/tinian_sticky_trap_images/1/original.png'\",\n",
       "  'help': ''},\n",
       " 'CROPPED_IMAGE_PATH': {'name': 'CROPPED_IMAGE_PATH',\n",
       "  'inferred_type_name': 'None',\n",
       "  'default': \"'/home/aubrey/Desktop/tinian_sticky_trap_images/1/cropped.png'\",\n",
       "  'help': ''},\n",
       " 'CROP_WIDTH': {'name': 'CROP_WIDTH',\n",
       "  'inferred_type_name': 'None',\n",
       "  'default': '2500',\n",
       "  'help': ''}}"
      ]
     },
     "execution_count": 7,
     "metadata": {},
     "output_type": "execute_result"
    }
   ],
   "source": [
    "papermill.inspect_notebook('crop_square_centered_on_qrcode.ipynb')"
   ]
  },
  {
   "cell_type": "code",
   "execution_count": 12,
   "id": "7e8ed555",
   "metadata": {},
   "outputs": [],
   "source": [
    "def crop_square_centered_on_qrcode(img, crop_width):\n",
    "    code = decode(img)\n",
    "    rect = code[0].rect\n",
    "    x_center = rect.left + (rect.width // 2)\n",
    "    y_center = rect.top + (rect.height // 2)\n",
    "\n",
    "    half_width = crop_width // 2\n",
    "    start_row = y_center - half_width\n",
    "    end_row = y_center + half_width\n",
    "    start_col = x_center - half_width\n",
    "    end_col = x_center + half_width\n",
    "\n",
    "    # If crop_width is even, we add an extra row and column\n",
    "    if (crop_width % 2):\n",
    "        end_row += 1\n",
    "        end_col += 1 \n",
    "        \n",
    "    return img[start_row:end_row, start_col:end_col]"
   ]
  },
  {
   "cell_type": "code",
   "execution_count": 13,
   "id": "5855f019",
   "metadata": {},
   "outputs": [
    {
     "name": "stdout",
     "output_type": "stream",
     "text": [
      "Processing /home/aubrey/Desktop/tinian_sticky_trap_images/1/original.png.\n",
      "Finished.\n"
     ]
    }
   ],
   "source": [
    "# MAIN\n",
    "print(f'Processing {ORIGINAL_IMAGE_PATH}.')\n",
    "img = cv2.imread(ORIGINAL_IMAGE_PATH)\n",
    "cropped_img = crop_square_centered_on_qrcode(img, CROP_WIDTH) \n",
    "cv2.imwrite(CROPPED_IMAGE_PATH, cropped_img)\n",
    "print('Finished.')    "
   ]
  },
  {
   "cell_type": "code",
   "execution_count": 14,
   "id": "05bf6a3f-34b8-4138-af33-53efe854aedf",
   "metadata": {},
   "outputs": [
    {
     "data": {
      "text/plain": [
       "array([[[125,  57, 196],\n",
       "        [124,  56, 195],\n",
       "        [122,  54, 193],\n",
       "        ...,\n",
       "        [164, 150, 156],\n",
       "        [165, 151, 157],\n",
       "        [164, 150, 156]],\n",
       "\n",
       "       [[128,  60, 199],\n",
       "        [126,  58, 197],\n",
       "        [124,  56, 195],\n",
       "        ...,\n",
       "        [165, 151, 157],\n",
       "        [165, 151, 157],\n",
       "        [165, 151, 157]],\n",
       "\n",
       "       [[127,  59, 198],\n",
       "        [127,  59, 198],\n",
       "        [125,  57, 196],\n",
       "        ...,\n",
       "        [165, 151, 157],\n",
       "        [165, 151, 157],\n",
       "        [165, 151, 157]],\n",
       "\n",
       "       ...,\n",
       "\n",
       "       [[133, 121, 127],\n",
       "        [135, 116, 135],\n",
       "        [136, 107, 153],\n",
       "        ...,\n",
       "        [147, 138, 148],\n",
       "        [148, 139, 149],\n",
       "        [149, 140, 150]],\n",
       "\n",
       "       [[128, 120, 131],\n",
       "        [129, 116, 138],\n",
       "        [133, 108, 152],\n",
       "        ...,\n",
       "        [149, 137, 149],\n",
       "        [149, 137, 149],\n",
       "        [150, 138, 150]],\n",
       "\n",
       "       [[131, 124, 137],\n",
       "        [131, 119, 141],\n",
       "        [133, 110, 154],\n",
       "        ...,\n",
       "        [149, 137, 149],\n",
       "        [149, 137, 149],\n",
       "        [148, 136, 148]]], dtype=uint8)"
      ]
     },
     "execution_count": 14,
     "metadata": {},
     "output_type": "execute_result"
    }
   ],
   "source": [
    "img"
   ]
  }
 ],
 "metadata": {
  "kernelspec": {
   "display_name": "Python 3",
   "language": "python",
   "name": "python3"
  },
  "language_info": {
   "codemirror_mode": {
    "name": "ipython",
    "version": 3
   },
   "file_extension": ".py",
   "mimetype": "text/x-python",
   "name": "python",
   "nbconvert_exporter": "python",
   "pygments_lexer": "ipython3",
   "version": "3.8.8"
  }
 },
 "nbformat": 4,
 "nbformat_minor": 5
}
