{
  "cells": [
    {
      "cell_type": "markdown",
      "metadata": {
        "id": "view-in-github",
        "colab_type": "text"
      },
      "source": [
        "<a href=\"https://colab.research.google.com/github/aubreymoore/sticky-trap-imaging/blob/main/code/qrcode_generator.ipynb\" target=\"_parent\"><img src=\"https://colab.research.google.com/assets/colab-badge.svg\" alt=\"Open In Colab\"/></a>"
      ]
    },
    {
      "cell_type": "markdown",
      "id": "b931e5f3",
      "metadata": {
        "id": "b931e5f3"
      },
      "source": [
        "# qrcode_generator.ipynb\n",
        "\n",
        "<a href=\"https://colab.research.google.com/github/aubreymoore/sticky-trap-imaging/blob/main/code/qrcode_generator.ipynb\" target=\"_parent\"><img src=\"https://colab.research.google.com/assets/colab-badge.svg\" alt=\"Open In Colab\"/></a>"
      ]
    },
    {
      "cell_type": "code",
      "execution_count": null,
      "id": "vtgMX-35J12w",
      "metadata": {
        "colab": {
          "base_uri": "https://localhost:8080/"
        },
        "id": "vtgMX-35J12w",
        "outputId": "f67dbd82-a2ec-4391-e313-ddb0af57d606"
      },
      "outputs": [
        {
          "name": "stdout",
          "output_type": "stream",
          "text": [
            "Collecting fpdf2\n",
            "  Downloading fpdf2-2.7.4-py2.py3-none-any.whl (276 kB)\n",
            "\u001b[2K     \u001b[38;2;114;156;31m━━━━━━━━━━━━━━━━━━━━━━━━━━━━━━━━━━━━━\u001b[0m \u001b[32m276.8/276.8 kB\u001b[0m \u001b[31m906.2 kB/s\u001b[0m eta \u001b[36m0:00:00\u001b[0m kB/s\u001b[0m eta \u001b[36m0:00:01\u001b[0m:01\u001b[0m\n",
            "\u001b[?25hRequirement already satisfied: defusedxml in /home/aubrey/myenv/lib/python3.9/site-packages (from fpdf2) (0.7.1)\n",
            "Requirement already satisfied: fonttools>=4.34.0 in /home/aubrey/myenv/lib/python3.9/site-packages (from fpdf2) (4.38.0)\n",
            "Requirement already satisfied: Pillow!=9.2.*,>=6.2.2 in /home/aubrey/myenv/lib/python3.9/site-packages (from fpdf2) (9.3.0)\n",
            "Installing collected packages: fpdf2\n",
            "Successfully installed fpdf2-2.7.4\n",
            "\n",
            "\u001b[1m[\u001b[0m\u001b[34;49mnotice\u001b[0m\u001b[1;39;49m]\u001b[0m\u001b[39;49m A new release of pip is available: \u001b[0m\u001b[31;49m23.0.1\u001b[0m\u001b[39;49m -> \u001b[0m\u001b[32;49m23.1.2\u001b[0m\n",
            "\u001b[1m[\u001b[0m\u001b[34;49mnotice\u001b[0m\u001b[1;39;49m]\u001b[0m\u001b[39;49m To update, run: \u001b[0m\u001b[32;49mpip install --upgrade pip\u001b[0m\n",
            "Collecting qrcode\n",
            "  Downloading qrcode-7.4.2-py3-none-any.whl (46 kB)\n",
            "\u001b[2K     \u001b[38;2;114;156;31m━━━━━━━━━━━━━━━━━━━━━━━━━━━━━━━━━━━━━━━\u001b[0m \u001b[32m46.2/46.2 kB\u001b[0m \u001b[31m402.5 kB/s\u001b[0m eta \u001b[36m0:00:00\u001b[0m1m914.9 kB/s\u001b[0m eta \u001b[36m0:00:01\u001b[0m\n",
            "\u001b[?25hCollecting pypng\n",
            "  Downloading pypng-0.20220715.0-py3-none-any.whl (58 kB)\n",
            "\u001b[2K     \u001b[38;2;114;156;31m━━━━━━━━━━━━━━━━━━━━━━━━━━━━━━━━━━━━━━━━\u001b[0m \u001b[32m58.1/58.1 kB\u001b[0m \u001b[31m1.5 MB/s\u001b[0m eta \u001b[36m0:00:00\u001b[0m\n",
            "\u001b[?25hRequirement already satisfied: typing-extensions in /home/aubrey/myenv/lib/python3.9/site-packages (from qrcode) (4.4.0)\n",
            "Installing collected packages: pypng, qrcode\n",
            "Successfully installed pypng-0.20220715.0 qrcode-7.4.2\n",
            "\n",
            "\u001b[1m[\u001b[0m\u001b[34;49mnotice\u001b[0m\u001b[1;39;49m]\u001b[0m\u001b[39;49m A new release of pip is available: \u001b[0m\u001b[31;49m23.0.1\u001b[0m\u001b[39;49m -> \u001b[0m\u001b[32;49m23.1.2\u001b[0m\n",
            "\u001b[1m[\u001b[0m\u001b[34;49mnotice\u001b[0m\u001b[1;39;49m]\u001b[0m\u001b[39;49m To update, run: \u001b[0m\u001b[32;49mpip install --upgrade pip\u001b[0m\n"
          ]
        }
      ],
      "source": [
        "!pip install fpdf2\n",
        "!pip install qrcode"
      ]
    },
    {
      "cell_type": "code",
      "execution_count": null,
      "id": "fa4a86e7",
      "metadata": {
        "id": "fa4a86e7"
      },
      "outputs": [],
      "source": [
        "from fpdf import FPDF\n",
        "import qrcode"
      ]
    },
    {
      "cell_type": "code",
      "execution_count": null,
      "id": "527f1b48",
      "metadata": {
        "id": "527f1b48",
        "tags": [
          "parameters"
        ]
      },
      "outputs": [],
      "source": [
        "# This cell is tagged \"parameters\" to enable running this notebook from the command line with papermill\n",
        "# Example usage:\n",
        "# papermill qrcode_generator.ipynb temp.ipynb -p MIN_SN 1 -p MAX_SN 100\n",
        "\n",
        "FONT_SIZE = 4      # points\n",
        "FONT = 'helvetica'\n",
        "YMIN = 1           # inches\n",
        "LABEL_WIDTH = 0.5  # inches\n",
        "LABEL_HEIGHT = 0.5 # inches\n",
        "XMIN = 0.5         # inches\n",
        "\n",
        "NROWS = 10\n",
        "NCOLS = 10\n",
        "\n",
        "PRINT = False\n",
        "\n",
        "MIN_SN = 1\n",
        "MAX_SN = 100\n",
        "\n",
        "PAGE_HEADER = 'serial numbers generated by qrcode_generator.ipynb'\n",
        "PDF_FILENAME = 'qrcodes.pdf'"
      ]
    },
    {
      "cell_type": "code",
      "execution_count": null,
      "id": "ae3dc1a7",
      "metadata": {
        "id": "ae3dc1a7"
      },
      "outputs": [],
      "source": [
        "class PDF(FPDF):\n",
        "    \n",
        "    def add_label(self, x, y, sn):\n",
        "        self.set_xy(x, y)        \n",
        "        img = qrcode.make(sn)\n",
        "        self.image(img.get_image(), w=0.25)\n",
        "        self.multi_cell(txt=str(sn), w=LABEL_WIDTH, ln=2, align='L')"
      ]
    },
    {
      "cell_type": "code",
      "execution_count": null,
      "id": "72a8168f",
      "metadata": {
        "id": "72a8168f"
      },
      "outputs": [],
      "source": [
        "def generate_labels():\n",
        "\n",
        "    pdf = PDF(orientation=\"P\", unit=\"in\", format=\"Letter\")\n",
        "    pdf.set_doc_option('core_fonts_encoding', 'utf-8') #NEW\n",
        "    pdf.set_font(family=FONT, size=FONT_SIZE)\n",
        "    \n",
        "    n = len(data_list)\n",
        "    i = 0\n",
        "    pages = 1 + n // (NROWS * NCOLS)\n",
        "    for p in range(pages):\n",
        "        print(f'Adding page {p}')\n",
        "        pdf.add_page()\n",
        "        pdf.set_font(size=14)\n",
        "        pdf.multi_cell(txt=PAGE_HEADER, w = 6)\n",
        "        pdf.set_font(size=FONT_SIZE)\n",
        "        r = 0\n",
        "        c = 0\n",
        "        for r in range(NROWS):\n",
        "            y = YMIN + r * LABEL_HEIGHT\n",
        "            for c in range(NCOLS):\n",
        "                x = XMIN + c * LABEL_WIDTH\n",
        "                pdf.add_label(x, y, data_list[i])\n",
        "                i += 1\n",
        "                if i == n:\n",
        "                    print(f\"writing {PDF_FILENAME}\")\n",
        "                    pdf.output(PDF_FILENAME)\n",
        "                    return\n",
        "\n",
        "# generate_labels()"
      ]
    },
    {
      "cell_type": "code",
      "execution_count": null,
      "id": "804bc5c7",
      "metadata": {
        "colab": {
          "base_uri": "https://localhost:8080/",
          "height": 342
        },
        "id": "804bc5c7",
        "outputId": "e5c03f20-ab09-43e7-d820-a23689d4b19b"
      },
      "outputs": [
        {
          "name": "stderr",
          "output_type": "stream",
          "text": [
            "/tmp/ipykernel_236949/1684585182.py:4: DeprecationWarning: set_doc_option() is deprecated. Simply set the `.core_fonts_encoding` property as a replacement.\n",
            "  pdf.set_doc_option('core_fonts_encoding', 'utf-8') #NEW\n",
            "/tmp/ipykernel_236949/307968949.py:7: DeprecationWarning: The parameter \"ln\" is deprecated. Instead of ln=2 use new_x=XPos.LEFT, new_y=YPos.NEXT.\n",
            "  self.multi_cell(txt=str(sn), w=LABEL_WIDTH, ln=2, align='L')\n"
          ]
        },
        {
          "name": "stdout",
          "output_type": "stream",
          "text": [
            "Adding page 0\n",
            "writing qrcodes.pdf\n",
            "FINISHED\n"
          ]
        }
      ],
      "source": [
        "# MAIN\n",
        "\n",
        "data_list = list(range(MIN_SN, MAX_SN+1))\n",
        "generate_labels()\n",
        "print('FINISHED')"
      ]
    }
  ],
  "metadata": {
    "colab": {
      "provenance": [],
      "include_colab_link": true
    },
    "kernelspec": {
      "display_name": "Python 3 (ipykernel)",
      "language": "python",
      "name": "python3"
    },
    "language_info": {
      "codemirror_mode": {
        "name": "ipython",
        "version": 3
      },
      "file_extension": ".py",
      "mimetype": "text/x-python",
      "name": "python",
      "nbconvert_exporter": "python",
      "pygments_lexer": "ipython3",
      "version": "3.9.5"
    }
  },
  "nbformat": 4,
  "nbformat_minor": 5
}